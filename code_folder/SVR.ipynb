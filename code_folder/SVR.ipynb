{
  "cells": [
    {
      "cell_type": "code",
      "execution_count": 2,
      "metadata": {
        "colab": {
          "base_uri": "https://localhost:8080/"
        },
        "id": "_V4IybtTDDEq",
        "outputId": "447d6a4f-4e44-48d4-d78c-bc782bdb0e6f"
      },
      "outputs": [
        {
          "name": "stdout",
          "output_type": "stream",
          "text": [
            "Please provide your Kaggle credentials to download this dataset. Learn more: http://bit.ly/kaggle-creds\n",
            "Your Kaggle username: tanpeiwen\n",
            "Your Kaggle Key: ··········\n",
            "Downloading covid19-twitter-dataset.zip to ./covid19-twitter-dataset\n"
          ]
        },
        {
          "name": "stderr",
          "output_type": "stream",
          "text": [
            "100%|██████████| 58.0M/58.0M [00:00<00:00, 123MB/s]\n"
          ]
        },
        {
          "name": "stdout",
          "output_type": "stream",
          "text": [
            "\n"
          ]
        }
      ],
      "source": [
        "!pip install opendatasets --upgrade --quiet\n",
        "import opendatasets as od\n",
        "import pandas as pd\n",
        "import datetime\n",
        "import matplotlib.dates as mdates\n",
        "\n",
        "dataset = 'https://www.kaggle.com/datasets/arunavakrchakraborty/covid19-twitter-dataset?resource=download&select=Covid-19+Twitter+Dataset+%28Aug-Sep+2020%29.csv'\n",
        "\n",
        "od.download(dataset)"
      ]
    },
    {
      "cell_type": "code",
      "execution_count": 3,
      "metadata": {
        "colab": {
          "base_uri": "https://localhost:8080/"
        },
        "id": "E6DZzJVeEu4-",
        "outputId": "8e2c4a95-bba6-4111-f833-e5842470d7fe"
      },
      "outputs": [
        {
          "name": "stdout",
          "output_type": "stream",
          "text": [
            "<class 'pandas.core.frame.DataFrame'>\n",
            "Int64Index: 555550 entries, 0 to 555555\n",
            "Data columns (total 4 columns):\n",
            " #   Column          Non-Null Count   Dtype  \n",
            "---  ------          --------------   -----  \n",
            " 0   created_at      555550 non-null  float64\n",
            " 1   favorite_count  555550 non-null  float64\n",
            " 2   compound        555550 non-null  float64\n",
            " 3   retweet_count   555550 non-null  float64\n",
            "dtypes: float64(4)\n",
            "memory usage: 21.2 MB\n"
          ]
        }
      ],
      "source": [
        "df1 = pd.read_csv(\"/content/covid19-twitter-dataset/Covid-19 Twitter Dataset (Apr-Jun 2020).csv\")\n",
        "df2 = pd.read_csv(\"/content/covid19-twitter-dataset/Covid-19 Twitter Dataset (Aug-Sep 2020).csv\")\n",
        "\n",
        "df = pd.concat([df1, df2], ignore_index=True)\n",
        "df = df.reset_index()\n",
        "df.head()\n",
        "df=df.iloc[:,[2, 6, 13, 7]]\n",
        "# convert to ints\n",
        "\n",
        "df[\"created_at\"] = pd.to_datetime(df[\"created_at\"])\n",
        "df['created_at'] = df['created_at'].map(mdates.date2num)\n",
        "df.dropna(inplace=True)\n",
        "\n",
        "df.head()\n",
        "df.info()\n"
      ]
    },
    {
      "cell_type": "code",
      "execution_count": 13,
      "metadata": {
        "colab": {
          "base_uri": "https://localhost:8080/"
        },
        "id": "9uDnKoqLr_cm",
        "outputId": "8279479f-5892-41df-964e-3b229c31baf1"
      },
      "outputs": [
        {
          "name": "stdout",
          "output_type": "stream",
          "text": [
            "Best: -0.004237 using {'C': 10, 'epsilon': 0.01}\n"
          ]
        },
        {
          "name": "stderr",
          "output_type": "stream",
          "text": [
            "/usr/local/lib/python3.7/dist-packages/sklearn/utils/validation.py:993: DataConversionWarning: A column-vector y was passed when a 1d array was expected. Please change the shape of y to (n_samples, ), for example using ravel().\n",
            "  y = column_or_1d(y, warn=True)\n"
          ]
        }
      ],
      "source": [
        "import pandas as pd\n",
        "import numpy as np\n",
        "from sklearn.svm import SVR \n",
        "from sklearn.preprocessing import MinMaxScaler\n",
        "from sklearn.model_selection import GridSearchCV\n",
        "\n",
        "x=df.iloc[:,: -1].sample(n=1000).values\n",
        "y=df.iloc[:,-1].sample(n=1000).values\n",
        "y=y.reshape(-1,1)\n",
        "\n",
        "# Use MinMax scaling on X2 and X3 features\n",
        "scalerx=MinMaxScaler()\n",
        "scalery=MinMaxScaler()\n",
        "\n",
        "x_scale=scalerx.fit_transform(x)\n",
        "y_scale=scalery.fit_transform(y)\n",
        "\n",
        "#rbf = SVR(kernel='rbf', C=1, epsilon=0.01)\n",
        "#rbf.fit(x_scale,y_scale)\n",
        "\n",
        "grid = GridSearchCV(\n",
        "estimator=SVR(kernel='rbf'),\n",
        "param_grid={\n",
        "\n",
        "'C': [1, 10, 100, 1000],\n",
        "\n",
        "'epsilon': [0.0001, 0.001, 0.01, 0.1, 1, 10]\n",
        "        },\n",
        "        cv=5, scoring='neg_mean_squared_error', verbose=0, n_jobs=-1)\n",
        "\n",
        "\n",
        "grid.fit(x_scale,y_scale)\n",
        "\n",
        "\n",
        "print(\"Best: %f using %s\" % (grid.best_score_,grid.best_params_))"
      ]
    },
    {
      "cell_type": "code",
      "execution_count": 14,
      "metadata": {
        "colab": {
          "base_uri": "https://localhost:8080/"
        },
        "id": "ujgW2rqfQvu7",
        "outputId": "f8a24e41-2563-459a-b117-22bb275474f2"
      },
      "outputs": [
        {
          "name": "stderr",
          "output_type": "stream",
          "text": [
            "/usr/local/lib/python3.7/dist-packages/sklearn/utils/validation.py:993: DataConversionWarning: A column-vector y was passed when a 1d array was expected. Please change the shape of y to (n_samples, ), for example using ravel().\n",
            "  y = column_or_1d(y, warn=True)\n"
          ]
        }
      ],
      "source": [
        "rbf = SVR(kernel='rbf', C=10, epsilon=0.01)\n",
        "rbf.fit(x_scale,y_scale)\n",
        "import pickle\n",
        "pickle.dump(rbf, open(\"svr_model\", 'wb'))"
      ]
    },
    {
      "cell_type": "code",
      "execution_count": 24,
      "metadata": {
        "colab": {
          "base_uri": "https://localhost:8080/"
        },
        "id": "QWtPZ-mGTZl4",
        "outputId": "526ddfe4-1121-4119-b539-cb1a553c2a2f"
      },
      "outputs": [
        {
          "name": "stdout",
          "output_type": "stream",
          "text": [
            "[[1878.84651104]]\n"
          ]
        }
      ],
      "source": [
        "# single prediction\n",
        "a=rbf.predict(scalerx.fit_transform(np.array([5556,7000,0.23]).reshape(1,-1)).reshape(1,-1))\n",
        "print(scalery.inverse_transform(a.reshape(1,-1)))"
      ]
    }
  ],
  "metadata": {
    "colab": {
      "collapsed_sections": [],
      "name": "Copy of SVR.ipynb",
      "provenance": []
    },
    "gpuClass": "standard",
    "kernelspec": {
      "display_name": "Python 3.10.5 64-bit",
      "language": "python",
      "name": "python3"
    },
    "language_info": {
      "name": "python",
      "version": "3.10.5"
    },
    "vscode": {
      "interpreter": {
        "hash": "562ff6023e3cee163c01fd4d0c94c28e05c74cff76ecf5132e8a5efd2f926a29"
      }
    }
  },
  "nbformat": 4,
  "nbformat_minor": 0
}

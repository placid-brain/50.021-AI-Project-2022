{
  "nbformat": 4,
  "nbformat_minor": 0,
  "metadata": {
    "colab": {
      "name": "Copy of SVR.ipynb",
      "provenance": [],
      "collapsed_sections": []
    },
    "kernelspec": {
      "name": "python3",
      "display_name": "Python 3"
    },
    "language_info": {
      "name": "python"
    },
    "gpuClass": "standard"
  },
  "cells": [
    {
      "cell_type": "code",
      "source": [
        "!pip install opendatasets --upgrade --quiet\n",
        "import opendatasets as od\n",
        "import pandas as pd\n",
        "import datetime\n",
        "import matplotlib.dates as mdates\n",
        "\n",
        "dataset = 'https://www.kaggle.com/datasets/arunavakrchakraborty/covid19-twitter-dataset?resource=download&select=Covid-19+Twitter+Dataset+%28Aug-Sep+2020%29.csv'\n",
        "\n",
        "od.download(dataset)"
      ],
      "metadata": {
        "colab": {
          "base_uri": "https://localhost:8080/"
        },
        "id": "_V4IybtTDDEq",
        "outputId": "a3d7c4e2-3dd7-40a1-dcb4-dfb8dd3ab229"
      },
      "execution_count": 1,
      "outputs": [
        {
          "output_type": "stream",
          "name": "stdout",
          "text": [
            "Please provide your Kaggle credentials to download this dataset. Learn more: http://bit.ly/kaggle-creds\n",
            "Your Kaggle username: tanpeiwen\n",
            "Your Kaggle Key: ··········\n",
            "Downloading covid19-twitter-dataset.zip to ./covid19-twitter-dataset\n"
          ]
        },
        {
          "output_type": "stream",
          "name": "stderr",
          "text": [
            "100%|██████████| 58.0M/58.0M [00:00<00:00, 94.8MB/s]\n"
          ]
        },
        {
          "output_type": "stream",
          "name": "stdout",
          "text": [
            "\n"
          ]
        }
      ]
    },
    {
      "cell_type": "code",
      "source": [
        "df1 = pd.read_csv(\"/content/covid19-twitter-dataset/Covid-19 Twitter Dataset (Apr-Jun 2020).csv\")\n",
        "df2 = pd.read_csv(\"/content/covid19-twitter-dataset/Covid-19 Twitter Dataset (Aug-Sep 2020).csv\")\n",
        "\n",
        "df = pd.concat([df1, df2], ignore_index=True)\n",
        "df = df.reset_index()\n",
        "df.head()\n",
        "df=df.iloc[:,[2, 6, 13, 7]]\n",
        "# convert to ints\n",
        "\n",
        "df[\"created_at\"] = pd.to_datetime(df[\"created_at\"])\n",
        "df['created_at'] = df['created_at'].map(mdates.date2num)\n",
        "df.dropna(inplace=True)\n",
        "\n",
        "df.head()\n",
        "df.info()\n"
      ],
      "metadata": {
        "colab": {
          "base_uri": "https://localhost:8080/"
        },
        "id": "E6DZzJVeEu4-",
        "outputId": "8c224ef4-54af-425e-fccb-5fa2e7d5276a"
      },
      "execution_count": 2,
      "outputs": [
        {
          "output_type": "stream",
          "name": "stdout",
          "text": [
            "<class 'pandas.core.frame.DataFrame'>\n",
            "Int64Index: 555550 entries, 0 to 555555\n",
            "Data columns (total 4 columns):\n",
            " #   Column          Non-Null Count   Dtype  \n",
            "---  ------          --------------   -----  \n",
            " 0   created_at      555550 non-null  float64\n",
            " 1   favorite_count  555550 non-null  float64\n",
            " 2   compound        555550 non-null  float64\n",
            " 3   retweet_count   555550 non-null  float64\n",
            "dtypes: float64(4)\n",
            "memory usage: 21.2 MB\n"
          ]
        }
      ]
    },
    {
      "cell_type": "code",
      "source": [
        "import pandas as pd\n",
        "import numpy as np\n",
        "from sklearn.svm import SVR \n",
        "from sklearn.preprocessing import MinMaxScaler\n",
        "from sklearn.model_selection import GridSearchCV\n",
        "\n",
        "x=df.iloc[:,: -1].sample(n=10000).values\n",
        "y=df.iloc[:,-1].sample(n=10000).values\n",
        "y=y.reshape(-1,1)\n",
        "\n",
        "# Use MinMax scaling on X2 and X3 features\n",
        "#scaler=MinMaxScaler()\n",
        "\n",
        "#x_scale=scaler.fit_transform(x)\n",
        "#y_scale=scaler.fit_transform(y)\n",
        "\n",
        "#rbf = SVR(kernel='rbf', C=1, epsilon=0.01)\n",
        "#rbf.fit(x_scale,y_scale)\n",
        "\n",
        "grid = GridSearchCV(\n",
        "estimator=SVR(kernel='rbf'),\n",
        "param_grid={\n",
        "\n",
        "'C': [1, 10, 100, 1000],\n",
        "\n",
        "'epsilon': [0.0001, 0.001, 0.01, 0.1, 1, 10]\n",
        "        },\n",
        "        cv=5, scoring='neg_mean_squared_error', verbose=0, n_jobs=-1)\n",
        "\n",
        "\n",
        "grid.fit(x,y)\n",
        "\n",
        "\n",
        "print(\"Best: %f using %s\" % (grid.best_score_,grid.best_params_))"
      ],
      "metadata": {
        "id": "9uDnKoqLr_cm",
        "colab": {
          "base_uri": "https://localhost:8080/"
        },
        "outputId": "9389de1d-6a9c-4f8b-eb9d-ca1f22acfce4"
      },
      "execution_count": 8,
      "outputs": [
        {
          "output_type": "stream",
          "name": "stderr",
          "text": [
            "/usr/local/lib/python3.7/dist-packages/sklearn/utils/validation.py:993: DataConversionWarning: A column-vector y was passed when a 1d array was expected. Please change the shape of y to (n_samples, ), for example using ravel().\n",
            "  y = column_or_1d(y, warn=True)\n"
          ]
        },
        {
          "output_type": "stream",
          "name": "stdout",
          "text": [
            "Best: -211165135.588753 using {'C': 1000, 'epsilon': 10}\n"
          ]
        }
      ]
    },
    {
      "cell_type": "code",
      "source": [
        "rbf = SVR(kernel='rbf', C=1, epsilon=0.01)\n",
        "rbf.fit(x,y)\n",
        "import pickle\n",
        "pickle.dump(rbf, open(\"svr_model\", 'wb'))"
      ],
      "metadata": {
        "id": "ujgW2rqfQvu7",
        "colab": {
          "base_uri": "https://localhost:8080/"
        },
        "outputId": "f771137c-60c2-4e63-b89f-2140bdc08429"
      },
      "execution_count": 9,
      "outputs": [
        {
          "output_type": "stream",
          "name": "stderr",
          "text": [
            "/usr/local/lib/python3.7/dist-packages/sklearn/utils/validation.py:993: DataConversionWarning: A column-vector y was passed when a 1d array was expected. Please change the shape of y to (n_samples, ), for example using ravel().\n",
            "  y = column_or_1d(y, warn=True)\n"
          ]
        }
      ]
    },
    {
      "cell_type": "code",
      "source": [
        "# single prediction\n",
        "print(rbf.predict(np.array([5556,7000,0.23]).reshape(1,-1)))"
      ],
      "metadata": {
        "colab": {
          "base_uri": "https://localhost:8080/"
        },
        "id": "QWtPZ-mGTZl4",
        "outputId": "36ad2da4-5ba5-4a19-e40d-b6617afba4e5"
      },
      "execution_count": 10,
      "outputs": [
        {
          "output_type": "stream",
          "name": "stdout",
          "text": [
            "[27.50112178]\n"
          ]
        }
      ]
    }
  ]
}
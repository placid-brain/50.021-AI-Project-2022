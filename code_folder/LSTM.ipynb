{
 "cells": [
  {
   "cell_type": "code",
   "execution_count": 18,
   "metadata": {},
   "outputs": [
    {
     "data": {
      "text/plain": [
       "device(type='cuda')"
      ]
     },
     "execution_count": 18,
     "metadata": {},
     "output_type": "execute_result"
    }
   ],
   "source": [
    "import torch\n",
    "device = torch.device('cuda' if torch.cuda.is_available() else 'cpu')\n",
    "device"
   ]
  },
  {
   "cell_type": "code",
   "execution_count": 19,
   "metadata": {},
   "outputs": [
    {
     "data": {
      "text/html": [
       "<div>\n",
       "<style scoped>\n",
       "    .dataframe tbody tr th:only-of-type {\n",
       "        vertical-align: middle;\n",
       "    }\n",
       "\n",
       "    .dataframe tbody tr th {\n",
       "        vertical-align: top;\n",
       "    }\n",
       "\n",
       "    .dataframe thead th {\n",
       "        text-align: right;\n",
       "    }\n",
       "</style>\n",
       "<table border=\"1\" class=\"dataframe\">\n",
       "  <thead>\n",
       "    <tr style=\"text-align: right;\">\n",
       "      <th></th>\n",
       "      <th>id</th>\n",
       "      <th>created_at</th>\n",
       "      <th>source</th>\n",
       "      <th>original_text</th>\n",
       "      <th>lang</th>\n",
       "      <th>favorite_count</th>\n",
       "      <th>retweet_count</th>\n",
       "      <th>original_author</th>\n",
       "      <th>hashtags</th>\n",
       "      <th>user_mentions</th>\n",
       "      <th>place</th>\n",
       "      <th>clean_tweet</th>\n",
       "      <th>compound</th>\n",
       "      <th>neg</th>\n",
       "      <th>neu</th>\n",
       "      <th>pos</th>\n",
       "      <th>sentiment</th>\n",
       "    </tr>\n",
       "  </thead>\n",
       "  <tbody>\n",
       "    <tr>\n",
       "      <th>0</th>\n",
       "      <td>1.250000e+18</td>\n",
       "      <td>Sun Apr 19 21:21:54 +0000 2020</td>\n",
       "      <td>&lt;a href=\"http://twitter.com/download/android\" ...</td>\n",
       "      <td>RT @GlblCtzn: .@priyankachopra is calling on l...</td>\n",
       "      <td>en</td>\n",
       "      <td>0.0</td>\n",
       "      <td>31.0</td>\n",
       "      <td>RJIshak</td>\n",
       "      <td>NaN</td>\n",
       "      <td>GlblCtzn, priyankachopra</td>\n",
       "      <td>Jakarta Capital Region</td>\n",
       "      <td>call leader help protect refuge covid19 provid...</td>\n",
       "      <td>0.8176</td>\n",
       "      <td>0.0</td>\n",
       "      <td>0.452</td>\n",
       "      <td>0.548</td>\n",
       "      <td>pos</td>\n",
       "    </tr>\n",
       "    <tr>\n",
       "      <th>1</th>\n",
       "      <td>1.250000e+18</td>\n",
       "      <td>Sun Apr 19 21:21:53 +0000 2020</td>\n",
       "      <td>&lt;a href=\"http://twitter.com/download/android\" ...</td>\n",
       "      <td>RT @OGSG_Official: OGUN STATE SUPPORT FOR CBN-...</td>\n",
       "      <td>en</td>\n",
       "      <td>0.0</td>\n",
       "      <td>61.0</td>\n",
       "      <td>makinwaoluwole</td>\n",
       "      <td>NaN</td>\n",
       "      <td>OGSG_Official</td>\n",
       "      <td>Nigeria</td>\n",
       "      <td>ogun state support cbn nirsal covid19 target c...</td>\n",
       "      <td>0.6486</td>\n",
       "      <td>0.0</td>\n",
       "      <td>0.602</td>\n",
       "      <td>0.398</td>\n",
       "      <td>pos</td>\n",
       "    </tr>\n",
       "    <tr>\n",
       "      <th>2</th>\n",
       "      <td>1.250000e+18</td>\n",
       "      <td>Sun Apr 19 21:21:52 +0000 2020</td>\n",
       "      <td>&lt;a href=\"http://twitter.com/download/iphone\" r...</td>\n",
       "      <td>RT @AdvoBarryRoux: These 5 police officials ba...</td>\n",
       "      <td>en</td>\n",
       "      <td>0.0</td>\n",
       "      <td>1.0</td>\n",
       "      <td>TembeAmu</td>\n",
       "      <td>NaN</td>\n",
       "      <td>AdvoBarryRoux</td>\n",
       "      <td>NaN</td>\n",
       "      <td>polic offici base namahadi polic station busi ...</td>\n",
       "      <td>0.2732</td>\n",
       "      <td>0.0</td>\n",
       "      <td>0.851</td>\n",
       "      <td>0.149</td>\n",
       "      <td>pos</td>\n",
       "    </tr>\n",
       "    <tr>\n",
       "      <th>3</th>\n",
       "      <td>1.250000e+18</td>\n",
       "      <td>Sun Apr 19 21:21:51 +0000 2020</td>\n",
       "      <td>&lt;a href=\"http://twitter.com/download/iphone\" r...</td>\n",
       "      <td>RT @MobilePunch: COVID-19: Oyo discharges two ...</td>\n",
       "      <td>en</td>\n",
       "      <td>0.0</td>\n",
       "      <td>0.0</td>\n",
       "      <td>ilyasrabiu</td>\n",
       "      <td>NaN</td>\n",
       "      <td>MobilePunch</td>\n",
       "      <td>Lagos, Nigeria</td>\n",
       "      <td>covid19 oyo discharg two patient</td>\n",
       "      <td>0.0000</td>\n",
       "      <td>0.0</td>\n",
       "      <td>1.000</td>\n",
       "      <td>0.000</td>\n",
       "      <td>neu</td>\n",
       "    </tr>\n",
       "    <tr>\n",
       "      <th>4</th>\n",
       "      <td>1.250000e+18</td>\n",
       "      <td>Sun Apr 19 21:21:50 +0000 2020</td>\n",
       "      <td>&lt;a href=\"http://twitter.com/download/android\" ...</td>\n",
       "      <td>My Condolences to the Family of those who did ...</td>\n",
       "      <td>en</td>\n",
       "      <td>0.0</td>\n",
       "      <td>13869.0</td>\n",
       "      <td>bucketeconomist</td>\n",
       "      <td>Covid_19</td>\n",
       "      <td>NaN</td>\n",
       "      <td>NaN</td>\n",
       "      <td>condol famili surviv</td>\n",
       "      <td>0.0000</td>\n",
       "      <td>0.0</td>\n",
       "      <td>1.000</td>\n",
       "      <td>0.000</td>\n",
       "      <td>neu</td>\n",
       "    </tr>\n",
       "  </tbody>\n",
       "</table>\n",
       "</div>"
      ],
      "text/plain": [
       "             id                      created_at  \\\n",
       "0  1.250000e+18  Sun Apr 19 21:21:54 +0000 2020   \n",
       "1  1.250000e+18  Sun Apr 19 21:21:53 +0000 2020   \n",
       "2  1.250000e+18  Sun Apr 19 21:21:52 +0000 2020   \n",
       "3  1.250000e+18  Sun Apr 19 21:21:51 +0000 2020   \n",
       "4  1.250000e+18  Sun Apr 19 21:21:50 +0000 2020   \n",
       "\n",
       "                                              source  \\\n",
       "0  <a href=\"http://twitter.com/download/android\" ...   \n",
       "1  <a href=\"http://twitter.com/download/android\" ...   \n",
       "2  <a href=\"http://twitter.com/download/iphone\" r...   \n",
       "3  <a href=\"http://twitter.com/download/iphone\" r...   \n",
       "4  <a href=\"http://twitter.com/download/android\" ...   \n",
       "\n",
       "                                       original_text lang  favorite_count  \\\n",
       "0  RT @GlblCtzn: .@priyankachopra is calling on l...   en             0.0   \n",
       "1  RT @OGSG_Official: OGUN STATE SUPPORT FOR CBN-...   en             0.0   \n",
       "2  RT @AdvoBarryRoux: These 5 police officials ba...   en             0.0   \n",
       "3  RT @MobilePunch: COVID-19: Oyo discharges two ...   en             0.0   \n",
       "4  My Condolences to the Family of those who did ...   en             0.0   \n",
       "\n",
       "   retweet_count  original_author  hashtags             user_mentions  \\\n",
       "0           31.0          RJIshak       NaN  GlblCtzn, priyankachopra   \n",
       "1           61.0   makinwaoluwole       NaN             OGSG_Official   \n",
       "2            1.0         TembeAmu       NaN             AdvoBarryRoux   \n",
       "3            0.0       ilyasrabiu       NaN               MobilePunch   \n",
       "4        13869.0  bucketeconomist  Covid_19                       NaN   \n",
       "\n",
       "                    place                                        clean_tweet  \\\n",
       "0  Jakarta Capital Region  call leader help protect refuge covid19 provid...   \n",
       "1                 Nigeria  ogun state support cbn nirsal covid19 target c...   \n",
       "2                     NaN  polic offici base namahadi polic station busi ...   \n",
       "3          Lagos, Nigeria                   covid19 oyo discharg two patient   \n",
       "4                     NaN                               condol famili surviv   \n",
       "\n",
       "   compound  neg    neu    pos sentiment  \n",
       "0    0.8176  0.0  0.452  0.548       pos  \n",
       "1    0.6486  0.0  0.602  0.398       pos  \n",
       "2    0.2732  0.0  0.851  0.149       pos  \n",
       "3    0.0000  0.0  1.000  0.000       neu  \n",
       "4    0.0000  0.0  1.000  0.000       neu  "
      ]
     },
     "execution_count": 19,
     "metadata": {},
     "output_type": "execute_result"
    }
   ],
   "source": [
    "import pandas as pd\n",
    "df1 = pd.read_csv(\"covid19-twitter-dataset/Covid-19 Twitter Dataset (Apr-Jun 2020).csv\")\n",
    "df2 = pd.read_csv(\"covid19-twitter-dataset/Covid-19 Twitter Dataset (Aug-Sep 2020).csv\")\n",
    "\n",
    "df = pd.concat([df1, df2], ignore_index=True)\n",
    "df.head()"
   ]
  },
  {
   "cell_type": "code",
   "execution_count": 20,
   "metadata": {},
   "outputs": [],
   "source": [
    "df = df.reset_index()"
   ]
  },
  {
   "cell_type": "code",
   "execution_count": 21,
   "metadata": {},
   "outputs": [],
   "source": [
    "df=df.iloc[:,[0,2,4,7,8,17]]"
   ]
  },
  {
   "cell_type": "code",
   "execution_count": 22,
   "metadata": {},
   "outputs": [
    {
     "data": {
      "text/html": [
       "<div>\n",
       "<style scoped>\n",
       "    .dataframe tbody tr th:only-of-type {\n",
       "        vertical-align: middle;\n",
       "    }\n",
       "\n",
       "    .dataframe tbody tr th {\n",
       "        vertical-align: top;\n",
       "    }\n",
       "\n",
       "    .dataframe thead th {\n",
       "        text-align: right;\n",
       "    }\n",
       "</style>\n",
       "<table border=\"1\" class=\"dataframe\">\n",
       "  <thead>\n",
       "    <tr style=\"text-align: right;\">\n",
       "      <th></th>\n",
       "      <th>original_text</th>\n",
       "      <th>retweet_count</th>\n",
       "    </tr>\n",
       "  </thead>\n",
       "  <tbody>\n",
       "    <tr>\n",
       "      <th>0</th>\n",
       "      <td>RT @GlblCtzn: .@priyankachopra is calling on l...</td>\n",
       "      <td>31.0</td>\n",
       "    </tr>\n",
       "    <tr>\n",
       "      <th>1</th>\n",
       "      <td>RT @OGSG_Official: OGUN STATE SUPPORT FOR CBN-...</td>\n",
       "      <td>61.0</td>\n",
       "    </tr>\n",
       "    <tr>\n",
       "      <th>2</th>\n",
       "      <td>RT @AdvoBarryRoux: These 5 police officials ba...</td>\n",
       "      <td>1.0</td>\n",
       "    </tr>\n",
       "    <tr>\n",
       "      <th>3</th>\n",
       "      <td>RT @MobilePunch: COVID-19: Oyo discharges two ...</td>\n",
       "      <td>0.0</td>\n",
       "    </tr>\n",
       "    <tr>\n",
       "      <th>4</th>\n",
       "      <td>My Condolences to the Family of those who did ...</td>\n",
       "      <td>13869.0</td>\n",
       "    </tr>\n",
       "  </tbody>\n",
       "</table>\n",
       "</div>"
      ],
      "text/plain": [
       "                                       original_text  retweet_count\n",
       "0  RT @GlblCtzn: .@priyankachopra is calling on l...           31.0\n",
       "1  RT @OGSG_Official: OGUN STATE SUPPORT FOR CBN-...           61.0\n",
       "2  RT @AdvoBarryRoux: These 5 police officials ba...            1.0\n",
       "3  RT @MobilePunch: COVID-19: Oyo discharges two ...            0.0\n",
       "4  My Condolences to the Family of those who did ...        13869.0"
      ]
     },
     "execution_count": 22,
     "metadata": {},
     "output_type": "execute_result"
    }
   ],
   "source": [
    "df.drop('index', inplace=True, axis=1)\n",
    "df.drop(\"original_author\", inplace = True, axis = 1)\n",
    "df.drop(\"created_at\", inplace = True, axis = 1)\n",
    "df.drop(\"sentiment\", inplace = True, axis = 1)\n",
    "df.head()"
   ]
  },
  {
   "cell_type": "code",
   "execution_count": 23,
   "metadata": {},
   "outputs": [],
   "source": [
    "from sklearn.model_selection import train_test_split\n",
    "df_train, throw_data = train_test_split(df, test_size=0.5)\n",
    "df_train, df_test = train_test_split(df_train, test_size=0.2)"
   ]
  },
  {
   "cell_type": "code",
   "execution_count": 24,
   "metadata": {},
   "outputs": [
    {
     "data": {
      "text/html": [
       "<div>\n",
       "<style scoped>\n",
       "    .dataframe tbody tr th:only-of-type {\n",
       "        vertical-align: middle;\n",
       "    }\n",
       "\n",
       "    .dataframe tbody tr th {\n",
       "        vertical-align: top;\n",
       "    }\n",
       "\n",
       "    .dataframe thead th {\n",
       "        text-align: right;\n",
       "    }\n",
       "</style>\n",
       "<table border=\"1\" class=\"dataframe\">\n",
       "  <thead>\n",
       "    <tr style=\"text-align: right;\">\n",
       "      <th></th>\n",
       "      <th>original_text</th>\n",
       "      <th>retweet_count</th>\n",
       "    </tr>\n",
       "  </thead>\n",
       "  <tbody>\n",
       "    <tr>\n",
       "      <th>0</th>\n",
       "      <td>RT @Mosace1: Why does this  #MadagascarCure fo...</td>\n",
       "      <td>10.0</td>\n",
       "    </tr>\n",
       "    <tr>\n",
       "      <th>1</th>\n",
       "      <td>Stranded at sea for months due to Covid-19 and...</td>\n",
       "      <td>5586.0</td>\n",
       "    </tr>\n",
       "    <tr>\n",
       "      <th>2</th>\n",
       "      <td>INEC conducted an election under strict covid ...</td>\n",
       "      <td>58.0</td>\n",
       "    </tr>\n",
       "    <tr>\n",
       "      <th>3</th>\n",
       "      <td>RT @Reuters: Japanese fashion designer Kenzo T...</td>\n",
       "      <td>2187.0</td>\n",
       "    </tr>\n",
       "    <tr>\n",
       "      <th>4</th>\n",
       "      <td>RT @JuliaDavisNews: In Hong Kong, only four co...</td>\n",
       "      <td>5.0</td>\n",
       "    </tr>\n",
       "  </tbody>\n",
       "</table>\n",
       "</div>"
      ],
      "text/plain": [
       "                                       original_text  retweet_count\n",
       "0  RT @Mosace1: Why does this  #MadagascarCure fo...           10.0\n",
       "1  Stranded at sea for months due to Covid-19 and...         5586.0\n",
       "2  INEC conducted an election under strict covid ...           58.0\n",
       "3  RT @Reuters: Japanese fashion designer Kenzo T...         2187.0\n",
       "4  RT @JuliaDavisNews: In Hong Kong, only four co...            5.0"
      ]
     },
     "execution_count": 24,
     "metadata": {},
     "output_type": "execute_result"
    }
   ],
   "source": [
    "df_train = df_train.reset_index()\n",
    "df_train.drop('index', inplace=True, axis=1)\n",
    "df_train.head()"
   ]
  },
  {
   "cell_type": "code",
   "execution_count": 34,
   "metadata": {},
   "outputs": [],
   "source": [
    "def remove_links_mentions(tweet):\n",
    "    link_re_pattern = \"https?:\\/\\/t.co/[\\w]+\"\n",
    "    mention_re_pattern = \"@\\w+\"\n",
    "    tweet = re.sub(link_re_pattern, \"\", tweet)\n",
    "    tweet = re.sub(mention_re_pattern, \"\", tweet)\n",
    "    return tweet.lower()"
   ]
  },
  {
   "cell_type": "code",
   "execution_count": 38,
   "metadata": {},
   "outputs": [
    {
     "data": {
      "text/plain": [
       "'calling vauxhall businesses📢vauxhall mp  and the  need the views of culture and creative in… '"
      ]
     },
     "execution_count": 38,
     "metadata": {},
     "output_type": "execute_result"
    }
   ],
   "source": [
    "df_train[\"original_text\"][27]"
   ]
  },
  {
   "cell_type": "code",
   "execution_count": 25,
   "metadata": {},
   "outputs": [
    {
     "name": "stdout",
     "output_type": "stream",
     "text": [
      "<class 'pandas.core.frame.DataFrame'>\n",
      "RangeIndex: 222222 entries, 0 to 222221\n",
      "Data columns (total 2 columns):\n",
      "original_text    222219 non-null object\n",
      "retweet_count    222219 non-null float64\n",
      "dtypes: float64(1), object(1)\n",
      "memory usage: 3.4+ MB\n"
     ]
    }
   ],
   "source": [
    "df_train.info()"
   ]
  },
  {
   "cell_type": "code",
   "execution_count": 39,
   "metadata": {},
   "outputs": [
    {
     "data": {
      "text/plain": [
       "478.0"
      ]
     },
     "execution_count": 39,
     "metadata": {},
     "output_type": "execute_result"
    }
   ],
   "source": [
    "df_train[\"retweet_count\"][27]"
   ]
  },
  {
   "cell_type": "code",
   "execution_count": 26,
   "metadata": {},
   "outputs": [],
   "source": [
    "train_set = list(df_train.to_records(index=False))\n",
    "test_set = list(df_test.to_records(index=False))"
   ]
  },
  {
   "cell_type": "code",
   "execution_count": 40,
   "metadata": {},
   "outputs": [
    {
     "data": {
      "text/plain": [
       "('Calling Vauxhall businesses📢Vauxhall MP @FloEshalomi and the @CommonsDCMS need the views of culture and creative in… https://t.co/NJxte9eHwI', 478.)"
      ]
     },
     "execution_count": 40,
     "metadata": {},
     "output_type": "execute_result"
    }
   ],
   "source": [
    "train_set[27]"
   ]
  },
  {
   "cell_type": "code",
   "execution_count": 43,
   "metadata": {},
   "outputs": [
    {
     "name": "stderr",
     "output_type": "stream",
     "text": [
      "[nltk_data] Downloading package punkt to /home/jovyan/nltk_data...\n",
      "[nltk_data]   Unzipping tokenizers/punkt.zip.\n"
     ]
    },
    {
     "data": {
      "text/plain": [
       "True"
      ]
     },
     "execution_count": 43,
     "metadata": {},
     "output_type": "execute_result"
    }
   ],
   "source": [
    "import nltk\n",
    "nltk.download('punkt')"
   ]
  },
  {
   "cell_type": "code",
   "execution_count": 45,
   "metadata": {},
   "outputs": [
    {
     "data": {
      "text/plain": [
       "(['calling',\n",
       "  'vauxhall',\n",
       "  'businesses📢vauxhall',\n",
       "  'mp',\n",
       "  'and',\n",
       "  'the',\n",
       "  'need',\n",
       "  'the',\n",
       "  'views',\n",
       "  'of',\n",
       "  'culture',\n",
       "  'and',\n",
       "  'creative',\n",
       "  'in…'],\n",
       " 478.0)"
      ]
     },
     "execution_count": 45,
     "metadata": {},
     "output_type": "execute_result"
    }
   ],
   "source": [
    "from nltk.tokenize import word_tokenize\n",
    "train_set = [(word_tokenize(remove_links_mentions(str(tweet))), label) for tweet, label in train_set]\n",
    "train_set[27]"
   ]
  },
  {
   "cell_type": "code",
   "execution_count": 47,
   "metadata": {},
   "outputs": [
    {
     "data": {
      "text/plain": [
       "(['[',\n",
       "  \"'rt\",\n",
       "  \"'\",\n",
       "  ',',\n",
       "  \"'\",\n",
       "  ':',\n",
       "  \"'\",\n",
       "  ',',\n",
       "  \"'the\",\n",
       "  \"'\",\n",
       "  ',',\n",
       "  \"'fake\",\n",
       "  \"'\",\n",
       "  ',',\n",
       "  \"'news\",\n",
       "  \"'\",\n",
       "  ',',\n",
       "  \"'media\",\n",
       "  \"'\",\n",
       "  ',',\n",
       "  \"'refuses\",\n",
       "  \"'\",\n",
       "  ',',\n",
       "  \"'to\",\n",
       "  \"'\",\n",
       "  ',',\n",
       "  \"'discuss\",\n",
       "  \"'\",\n",
       "  ',',\n",
       "  \"'how\",\n",
       "  \"'\",\n",
       "  ',',\n",
       "  \"'good\",\n",
       "  \"'\",\n",
       "  ',',\n",
       "  \"'the\",\n",
       "  \"'\",\n",
       "  ',',\n",
       "  \"'economy\",\n",
       "  \"'\",\n",
       "  ',',\n",
       "  \"'and\",\n",
       "  \"'\",\n",
       "  ',',\n",
       "  \"'stock\",\n",
       "  \"'\",\n",
       "  ',',\n",
       "  \"'market\",\n",
       "  \"'\",\n",
       "  ',',\n",
       "  \"'\",\n",
       "  ',',\n",
       "  \"'\",\n",
       "  ',',\n",
       "  \"'including\",\n",
       "  \"'\",\n",
       "  ',',\n",
       "  \"'jobs\",\n",
       "  \"'\",\n",
       "  ',',\n",
       "  \"'under\",\n",
       "  \"'\",\n",
       "  ',',\n",
       "  \"'the\",\n",
       "  \"'\",\n",
       "  ',',\n",
       "  \"'trump\",\n",
       "  \"'\",\n",
       "  ',',\n",
       "  \"'administr…\",\n",
       "  \"'\",\n",
       "  ']'],\n",
       " 0.0)"
      ]
     },
     "execution_count": 47,
     "metadata": {},
     "output_type": "execute_result"
    }
   ],
   "source": [
    "from nltk.tokenize import word_tokenize\n",
    "test_set = [(word_tokenize(remove_links_mentions(str(tweet))), label) for tweet, label in test_set]\n",
    "test_set[27]\n",
    "    "
   ]
  },
  {
   "cell_type": "code",
   "execution_count": 50,
   "metadata": {},
   "outputs": [],
   "source": [
    "index2word = [\"<PAD>\", \"<SOS>\", \"<EOS>\"]\n",
    "\n",
    "for ds in [train_set, test_set]:\n",
    "    for tweet, label in ds:\n",
    "        for token in tweet:\n",
    "            if token not in index2word:\n",
    "                index2word.append(token)"
   ]
  },
  {
   "cell_type": "code",
   "execution_count": 51,
   "metadata": {},
   "outputs": [
    {
     "data": {
      "text/plain": [
       "'for'"
      ]
     },
     "execution_count": 51,
     "metadata": {},
     "output_type": "execute_result"
    }
   ],
   "source": [
    "index2word[10]"
   ]
  },
  {
   "cell_type": "code",
   "execution_count": 52,
   "metadata": {},
   "outputs": [],
   "source": [
    "word2index = {token: idx for idx, token in enumerate(index2word)}"
   ]
  },
  {
   "cell_type": "code",
   "execution_count": 53,
   "metadata": {},
   "outputs": [
    {
     "data": {
      "text/plain": [
       "10"
      ]
     },
     "execution_count": 53,
     "metadata": {},
     "output_type": "execute_result"
    }
   ],
   "source": [
    "word2index[\"for\"]"
   ]
  },
  {
   "cell_type": "code",
   "execution_count": 54,
   "metadata": {},
   "outputs": [],
   "source": [
    "def encode_and_pad(tweet, length):\n",
    "    sos = [word2index[\"<SOS>\"]]\n",
    "    eos = [word2index[\"<EOS>\"]]\n",
    "    pad = [word2index[\"<PAD>\"]]\n",
    "\n",
    "    if len(tweet) < length - 2: # -2 for SOS and EOS\n",
    "        n_pads = length - 2 - len(tweet)\n",
    "        encoded = [word2index[w] for w in tweet]\n",
    "        return sos + encoded + eos + pad * n_pads \n",
    "    else: # tweet is longer than possible; truncating\n",
    "        encoded = [word2index[w] for w in tweet]\n",
    "        truncated = encoded[:length - 2]\n",
    "        return sos + truncated + eos"
   ]
  },
  {
   "cell_type": "code",
   "execution_count": 56,
   "metadata": {},
   "outputs": [],
   "source": [
    "seq_length = 32\n",
    "train_encoded = [(encode_and_pad(tweet, seq_length), label) for tweet, label in train_set]"
   ]
  },
  {
   "cell_type": "code",
   "execution_count": 57,
   "metadata": {},
   "outputs": [],
   "source": [
    "test_encoded = [(encode_and_pad(tweet, seq_length), label) for tweet, label in test_set]"
   ]
  },
  {
   "cell_type": "code",
   "execution_count": 58,
   "metadata": {},
   "outputs": [
    {
     "data": {
      "text/plain": [
       "([1,\n",
       "  362,\n",
       "  363,\n",
       "  364,\n",
       "  365,\n",
       "  32,\n",
       "  78,\n",
       "  366,\n",
       "  78,\n",
       "  367,\n",
       "  80,\n",
       "  368,\n",
       "  32,\n",
       "  369,\n",
       "  370,\n",
       "  2,\n",
       "  0,\n",
       "  0,\n",
       "  0,\n",
       "  0,\n",
       "  0,\n",
       "  0,\n",
       "  0,\n",
       "  0,\n",
       "  0,\n",
       "  0,\n",
       "  0,\n",
       "  0,\n",
       "  0,\n",
       "  0,\n",
       "  0,\n",
       "  0],\n",
       " 478.0)"
      ]
     },
     "execution_count": 58,
     "metadata": {},
     "output_type": "execute_result"
    }
   ],
   "source": [
    "train_encoded[27]"
   ]
  },
  {
   "cell_type": "code",
   "execution_count": 61,
   "metadata": {},
   "outputs": [],
   "source": [
    "import numpy as np\n",
    "from torch.utils.data import DataLoader, TensorDataset\n",
    "batch_size = 50\n",
    "\n",
    "train_x = np.array([tweet for tweet, label in train_encoded])\n",
    "train_y = np.array([label for tweet, label in train_encoded])\n",
    "test_x = np.array([tweet for tweet, label in test_encoded])\n",
    "test_y = np.array([label for tweet, label in test_encoded])\n",
    "\n",
    "train_ds = TensorDataset(torch.from_numpy(train_x), torch.from_numpy(train_y))\n",
    "test_ds = TensorDataset(torch.from_numpy(test_x), torch.from_numpy(test_y))\n",
    "\n",
    "\n",
    "train_dl = DataLoader(train_ds, shuffle=True, batch_size=batch_size, drop_last=True)\n",
    "test_dl = DataLoader(test_ds, shuffle=True, batch_size=batch_size, drop_last=True)"
   ]
  },
  {
   "cell_type": "code",
   "execution_count": 88,
   "metadata": {},
   "outputs": [],
   "source": [
    "import torch.nn as nn\n",
    "import torch.nn.functional as F\n",
    "class LSTM(torch.nn.Module) :\n",
    "    def __init__(self, vocab_size, embedding_dim, hidden_dim, dropout) :\n",
    "        super().__init__()\n",
    "\n",
    "        # The embedding layer takes the vocab size and the embeddings size as input\n",
    "        # The embeddings size is up to you to decide, but common sizes are between 50 and 100.\n",
    "        self.embedding = nn.Embedding(vocab_size, embedding_dim, padding_idx=0)\n",
    "\n",
    "        # The LSTM layer takes in the the embedding size and the hidden vector size.\n",
    "        # The hidden dimension is up to you to decide, but common values are 32, 64, 128\n",
    "        self.lstm = nn.LSTM(embedding_dim, hidden_dim, batch_first=True)\n",
    "\n",
    "        # We use dropout before the final layer to improve with regularization\n",
    "        self.dropout = nn.Dropout(dropout)\n",
    "\n",
    "        # The fully-connected layer takes in the hidden dim of the LSTM and\n",
    "        #  outputs a a 3x1 vector of the class scores.\n",
    "        self.fc = nn.Linear(hidden_dim, 1)\n",
    "        \n",
    "        self.relu = nn.ReLU()\n",
    "\n",
    "    def forward(self, x, hidden):\n",
    "        \"\"\"\n",
    "        The forward method takes in the input and the previous hidden state \n",
    "        \"\"\"\n",
    "\n",
    "        # The input is transformed to embeddings by passing it to the embedding layer\n",
    "        embs = self.embedding(x)\n",
    "\n",
    "        # The embedded inputs are fed to the LSTM alongside the previous hidden state\n",
    "        out, hidden = self.lstm(embs, hidden)\n",
    "\n",
    "        # Dropout is applied to the output and fed to the FC layer\n",
    "        out = self.dropout(out)\n",
    "        out = self.fc(out)\n",
    "\n",
    "        # We extract the scores for the final hidden state since it is the one that matters.\n",
    "        out = out[:, -1]\n",
    "        out = self.relu(out)\n",
    "        return out.squeeze(), hidden\n",
    "    \n",
    "    def init_hidden(self):\n",
    "        return (torch.zeros(1, batch_size, 32), torch.zeros(1, batch_size, 32))"
   ]
  },
  {
   "cell_type": "code",
   "execution_count": 89,
   "metadata": {},
   "outputs": [],
   "source": [
    "\n",
    "model = LSTM(len(word2index), 64, 32, 0.2)\n",
    "model = model.to(device)"
   ]
  },
  {
   "cell_type": "code",
   "execution_count": 71,
   "metadata": {},
   "outputs": [],
   "source": [
    "criterion = torch.nn.L1Loss()\n",
    "optimizer = torch.optim.Adam(model.parameters(), lr = 3e-4)"
   ]
  },
  {
   "cell_type": "code",
   "execution_count": 83,
   "metadata": {},
   "outputs": [],
   "source": [
    "# function to predict accuracy\n",
    "def acc(pred,label):\n",
    "    pred = torch.round(pred.squeeze())\n",
    "    return torch.sum(pred == label.squeeze()).item()"
   ]
  },
  {
   "cell_type": "code",
   "execution_count": 98,
   "metadata": {},
   "outputs": [
    {
     "name": "stdout",
     "output_type": "stream",
     "text": [
      "Epoch  0 , Accuracy :  20.94077094077094\n",
      "Epoch  1 , Accuracy :  20.94032094032094\n",
      "Epoch  2 , Accuracy :  20.94032094032094\n",
      "Epoch  3 , Accuracy :  20.941670941670942\n",
      "Epoch  4 , Accuracy :  20.94032094032094\n",
      "Epoch  5 , Accuracy :  20.93942093942094\n",
      "Epoch  6 , Accuracy :  20.93987093987094\n",
      "Epoch  7 , Accuracy :  20.93987093987094\n",
      "Epoch  8 , Accuracy :  20.93897093897094\n",
      "Epoch  9 , Accuracy :  20.93987093987094\n",
      "Epoch  10 , Accuracy :  20.93987093987094\n",
      "Epoch  11 , Accuracy :  20.94032094032094\n",
      "Epoch  12 , Accuracy :  20.94077094077094\n",
      "Epoch  13 , Accuracy :  20.93942093942094\n",
      "Epoch  14 , Accuracy :  20.94122094122094\n",
      "Epoch  15 , Accuracy :  20.94077094077094\n",
      "Epoch  16 , Accuracy :  20.93942093942094\n",
      "Epoch  17 , Accuracy :  20.93897093897094\n",
      "Epoch  18 , Accuracy :  20.94032094032094\n",
      "Epoch  19 , Accuracy :  20.938520938520938\n",
      "Epoch  20 , Accuracy :  20.938520938520938\n",
      "Epoch  21 , Accuracy :  20.93987093987094\n",
      "Epoch  22 , Accuracy :  20.93942093942094\n",
      "Epoch  23 , Accuracy :  20.93942093942094\n",
      "Epoch  24 , Accuracy :  20.93987093987094\n",
      "Epoch  25 , Accuracy :  20.93987093987094\n",
      "Epoch  26 , Accuracy :  20.93942093942094\n",
      "Epoch  27 , Accuracy :  20.938520938520938\n",
      "Epoch  28 , Accuracy :  20.93987093987094\n",
      "Epoch  29 , Accuracy :  20.94077094077094\n"
     ]
    }
   ],
   "source": [
    "epochs = 30\n",
    "losses = []\n",
    "\n",
    "for e in range(epochs):\n",
    "\n",
    "    h0, c0 =  model.init_hidden()\n",
    "\n",
    "    h0 = h0.to(device)\n",
    "    c0 = c0.to(device)\n",
    "    accuracy_score = 0.0\n",
    "    \n",
    "\n",
    "    for batch_idx, batch in enumerate(train_dl):\n",
    "        \n",
    "\n",
    "        input = batch[0].to(device)\n",
    "        target = batch[1].to(device)\n",
    "\n",
    "        optimizer.zero_grad()\n",
    "        with torch.set_grad_enabled(True):\n",
    "            out, hidden = model(input, (h0, c0))\n",
    "            loss = criterion(out, target)\n",
    "            accu= acc(out, target)\n",
    "            accuracy_score += accu\n",
    "            \n",
    "            loss.backward()\n",
    "            optimizer.step()\n",
    "     \n",
    "    losses.append(loss.item())\n",
    "    print(\"Epoch \", e, \", Accuracy : \", accuracy_score * 100 / len(train_dl.dataset))\n",
    "    \n",
    "    \n",
    "    \n",
    "    "
   ]
  },
  {
   "cell_type": "code",
   "execution_count": 103,
   "metadata": {},
   "outputs": [
    {
     "data": {
      "text/plain": [
       "Text(0, 0.5, 'Loss')"
      ]
     },
     "execution_count": 103,
     "metadata": {},
     "output_type": "execute_result"
    },
    {
     "data": {
      "image/png": "[encoded data removed]",
      "text/plain": [
       "<Figure size 432x288 with 1 Axes>"
      ]
     },
     "metadata": {
      "needs_background": "light"
     },
     "output_type": "display_data"
    }
   ],
   "source": [
    "import matplotlib.pyplot as plt\n",
    "plt.plot(losses)\n",
    "plt.xlabel(\"Epoch\")\n",
    "plt.ylabel(\"Loss\")"
   ]
  },
  {
   "cell_type": "code",
   "execution_count": 102,
   "metadata": {},
   "outputs": [
    {
     "name": "stdout",
     "output_type": "stream",
     "text": [
      "Test Accuracy :  21.27042983656131\n"
     ]
    }
   ],
   "source": [
    "\n",
    "#evaluation\n",
    "batch_acc = []\n",
    "valid_accuracy = 0.0\n",
    "for batch_idx, batch in enumerate(test_dl):\n",
    "\n",
    "    input = batch[0].to(device)\n",
    "    target = batch[1].to(device)\n",
    "\n",
    "    optimizer.zero_grad()\n",
    "    with torch.set_grad_enabled(False):\n",
    "        out, hidden = model(input, (h0, c0))\n",
    "        accu= acc(out, target)\n",
    "        valid_accuracy += accu\n",
    "\n",
    "\n",
    "print(\"Test Accuracy : \", valid_accuracy * 100 / len(test_dl.dataset))"
   ]
  },
  {
   "cell_type": "code",
   "execution_count": null,
   "metadata": {},
   "outputs": [],
   "source": []
  }
 ],
 "metadata": {
  "kernelspec": {
   "display_name": "Python 3",
   "language": "python",
   "name": "python3"
  },
  "language_info": {
   "codemirror_mode": {
    "name": "ipython",
    "version": 3
   },
   "file_extension": ".py",
   "mimetype": "text/x-python",
   "name": "python",
   "nbconvert_exporter": "python",
   "pygments_lexer": "ipython3",
   "version": "3.6.10"
  }
 },
 "nbformat": 4,
 "nbformat_minor": 4
}

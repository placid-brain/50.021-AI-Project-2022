{
 "cells": [
  {
   "cell_type": "code",
   "execution_count": 242,
   "metadata": {},
   "outputs": [],
   "source": [
    "import torch\n",
    "import torch.nn as nn\n",
    "import pandas as pd\n",
    "from torch import nn, optim\n",
    "from torch.utils.data import Dataset, DataLoader"
   ]
  },
  {
   "cell_type": "code",
   "execution_count": 243,
   "metadata": {},
   "outputs": [],
   "source": [
    "df_x_train = pd.read_csv(\"/Users/placid_brain/Documents/non text content based models/all_variables/train/X_train.csv\")\n",
    "df_y_train = pd.read_csv(\"/Users/placid_brain/Documents/non text content based models/all_variables/train/y_train.csv\")\n",
    "\n",
    "df_x_test = pd.read_csv(\"/Users/placid_brain/Documents/non text content based models/all_variables/test/X_test.csv\")\n",
    "df_y_test = pd.read_csv(\"/Users/placid_brain/Documents/non text content based models/all_variables/test/y_test.csv\")\n",
    "\n",
    "df_x_train = df_x_train.drop([\"original_text\"], axis=1)\n",
    "df_x_test = df_x_test.drop([\"original_text\"], axis=1)"
   ]
  },
  {
   "cell_type": "code",
   "execution_count": 244,
   "metadata": {},
   "outputs": [
    {
     "name": "stdout",
     "output_type": "stream",
     "text": [
      "7000\n"
     ]
    }
   ],
   "source": [
    "train = pd.concat([df_x_train,df_y_train], axis=1)\n",
    "test = pd.concat([df_x_test,df_y_test], axis=1)\n",
    "print(len(train.index))"
   ]
  },
  {
   "cell_type": "code",
   "execution_count": 245,
   "metadata": {
    "scrolled": true
   },
   "outputs": [
    {
     "name": "stdout",
     "output_type": "stream",
     "text": [
      "   sentiment_class  is_retweeted_encoded  day  hour_posted  \\\n",
      "0              2.0                   0.0  4.0         18.0   \n",
      "1              2.0                   1.0  4.0         12.0   \n",
      "2              1.0                   1.0  4.0         17.0   \n",
      "3              2.0                   1.0  2.0         20.0   \n",
      "4              1.0                   1.0  4.0         13.0   \n",
      "\n",
      "   original_author_class  retweet_count  \n",
      "0               169156.0           83.0  \n",
      "1                18220.0         1350.0  \n",
      "2               189549.0         6343.0  \n",
      "3                94628.0          581.0  \n",
      "4                16234.0           19.0  \n",
      "   sentiment_class  is_retweeted_encoded  day  hour_posted  \\\n",
      "0              2.0                   1.0  4.0         14.0   \n",
      "1              2.0                   1.0  4.0         13.0   \n",
      "2              1.0                   0.0  2.0         21.0   \n",
      "3              2.0                   1.0  4.0         13.0   \n",
      "4              1.0                   1.0  4.0         13.0   \n",
      "\n",
      "   original_author_class  retweet_count  \n",
      "0               199642.0          375.0  \n",
      "1               215937.0           23.0  \n",
      "2               164047.0          105.0  \n",
      "3               178735.0            1.0  \n",
      "4               215711.0          265.0  \n"
     ]
    }
   ],
   "source": [
    "train=train.drop(train.columns[[6]],axis=1)\n",
    "test=test.drop(test.columns[[6]],axis=1)\n",
    "print(train.head())\n",
    "print(test.head())"
   ]
  },
  {
   "cell_type": "code",
   "execution_count": 246,
   "metadata": {},
   "outputs": [
    {
     "name": "stdout",
     "output_type": "stream",
     "text": [
      "<class 'pandas.core.frame.DataFrame'>\n",
      "RangeIndex: 7000 entries, 0 to 6999\n",
      "Data columns (total 6 columns):\n",
      "sentiment_class          7000 non-null float64\n",
      "is_retweeted_encoded     7000 non-null float64\n",
      "day                      7000 non-null float64\n",
      "hour_posted              7000 non-null float64\n",
      "original_author_class    7000 non-null float64\n",
      "retweet_count            7000 non-null float64\n",
      "dtypes: float64(6)\n",
      "memory usage: 328.2 KB\n"
     ]
    }
   ],
   "source": [
    "train.info()"
   ]
  },
  {
   "cell_type": "code",
   "execution_count": 247,
   "metadata": {},
   "outputs": [
    {
     "name": "stdout",
     "output_type": "stream",
     "text": [
      "0 tensor([[2.0000e+00, 0.0000e+00, 4.0000e+00, 1.8000e+01, 1.6916e+05],\n",
      "        [2.0000e+00, 1.0000e+00, 4.0000e+00, 1.2000e+01, 1.8220e+04],\n",
      "        [1.0000e+00, 1.0000e+00, 4.0000e+00, 1.7000e+01, 1.8955e+05],\n",
      "        [2.0000e+00, 1.0000e+00, 2.0000e+00, 2.0000e+01, 9.4628e+04],\n",
      "        [1.0000e+00, 1.0000e+00, 4.0000e+00, 1.3000e+01, 1.6234e+04],\n",
      "        [1.0000e+00, 0.0000e+00, 4.0000e+00, 1.4000e+01, 1.0926e+05],\n",
      "        [2.0000e+00, 1.0000e+00, 4.0000e+00, 1.2000e+01, 8.2538e+04],\n",
      "        [1.0000e+00, 1.0000e+00, 6.0000e+00, 2.3000e+01, 1.3829e+05],\n",
      "        [0.0000e+00, 1.0000e+00, 4.0000e+00, 1.2000e+01, 3.0558e+05],\n",
      "        [0.0000e+00, 1.0000e+00, 4.0000e+00, 1.5000e+01, 8.5493e+04]]) tensor([  83., 1350., 6343.,  581.,   19., 1517.,  148.,   90.,   71.,  208.])\n"
     ]
    }
   ],
   "source": [
    "class MyDataset(Dataset):\n",
    " \n",
    "  def __init__(self,df):\n",
    "   \n",
    " \n",
    "    x=df.iloc[:,0:5].values\n",
    "    y=df.iloc[:,5].values\n",
    " \n",
    "    self.x_train=torch.tensor(x,dtype=torch.float32)\n",
    "    self.y_train=torch.tensor(y,dtype=torch.float32)\n",
    " \n",
    "  def __len__(self):\n",
    "    return len(self.y_train)\n",
    "   \n",
    "  def __getitem__(self,idx):\n",
    "    return self.x_train[idx],self.y_train[idx]\n",
    "\n",
    "train_dataset=MyDataset(train)\n",
    "train_loader=DataLoader(train_dataset,batch_size=10,shuffle=False)\n",
    "\n",
    "for i, (data,rtwt) in enumerate(train_loader):\n",
    "    print(i, data, rtwt)\n",
    "    break"
   ]
  },
  {
   "cell_type": "code",
   "execution_count": 248,
   "metadata": {},
   "outputs": [],
   "source": [
    "import torch.nn.functional as F\n",
    "\n",
    "class DNNLinReg4(nn.Module):\n",
    "    def __init__(self):\n",
    "        super(DNNLinReg4, self).__init__()\n",
    "        \n",
    "        self.linear1 = nn.Linear(10, 50)\n",
    "        \n",
    "        self.relu1 = nn.ReLU()\n",
    "        \n",
    "        self.linear2 = nn.Linear(50,30)\n",
    "        \n",
    "        self.relu2 = nn.ReLU()\n",
    "        \n",
    "        self.linear3 = nn.Linear(30,10)\n",
    "        \n",
    "        self.relu3 = nn.ReLU()\n",
    "        \n",
    "        self.linear4 = nn.Linear(10,1)\n",
    "        \n",
    "    def forward(self,x):\n",
    "        \n",
    "        linear1 = self.linear1(x)\n",
    "        \n",
    "        relu1= self.relu1(linear1)\n",
    "        \n",
    "        linear2 = self.linear2(relu1)\n",
    "        \n",
    "        relu2 = self.relu2(linear2)\n",
    "        \n",
    "        linear3 = self.linear3(relu2)\n",
    "        \n",
    "        relu3 = self.relu3(linear3)\n",
    "        \n",
    "        linear4 = self.linear4(relu3)\n",
    "        \n",
    "        return linear4\n",
    "        \n",
    "        \n",
    "        \n",
    "        \n",
    "        "
   ]
  },
  {
   "cell_type": "code",
   "execution_count": 249,
   "metadata": {},
   "outputs": [],
   "source": [
    "model = DNNLinReg4()"
   ]
  },
  {
   "cell_type": "code",
   "execution_count": 250,
   "metadata": {},
   "outputs": [],
   "source": [
    "criterion = nn.MSELoss()\n",
    "optimizer = torch.optim.Adam(model.parameters(), 0.01)\n"
   ]
  },
  {
   "cell_type": "code",
   "execution_count": 251,
   "metadata": {},
   "outputs": [],
   "source": [
    "import matplotlib.pyplot as plt\n",
    "import numpy as np"
   ]
  },
  {
   "cell_type": "code",
   "execution_count": 252,
   "metadata": {},
   "outputs": [
    {
     "name": "stdout",
     "output_type": "stream",
     "text": [
      "Training\n",
      "\n",
      "\n",
      "\n",
      "\n",
      "\n",
      "\n",
      "Epoch:  1 /70 Training loss:  8299904064.240173\n",
      "Epoch:  2 /70 Training loss:  9017559173.503723\n",
      "Epoch:  3 /70 Training loss:  8230554023.714428\n",
      "Epoch:  4 /70 Training loss:  8223241985.65744\n",
      "Epoch:  5 /70 Training loss:  8216424206.257599\n",
      "Epoch:  6 /70 Training loss:  8209664662.556824\n",
      "Epoch:  7 /70 Training loss:  8202954150.859497\n",
      "Epoch:  8 /70 Training loss:  8196293139.0477295\n",
      "Epoch:  9 /70 Training loss:  8189681381.6137085\n",
      "Epoch:  10 /70 Training loss:  8183117319.43689\n",
      "Epoch:  11 /70 Training loss:  8176600722.576904\n",
      "Epoch:  12 /70 Training loss:  8170131552.335083\n",
      "Epoch:  13 /70 Training loss:  8163709780.819336\n",
      "Epoch:  14 /70 Training loss:  8157335085.570068\n",
      "Epoch:  15 /70 Training loss:  8151007247.110107\n",
      "Epoch:  16 /70 Training loss:  8144726004.380615\n",
      "Epoch:  17 /70 Training loss:  8138491287.919922\n",
      "Epoch:  18 /70 Training loss:  8132303280.617676\n",
      "Epoch:  19 /70 Training loss:  8126161413.42627\n",
      "Epoch:  20 /70 Training loss:  8120065414.878418\n",
      "Epoch:  21 /70 Training loss:  8114015200.224121\n",
      "Epoch:  22 /70 Training loss:  8108010667.134766\n",
      "Epoch:  23 /70 Training loss:  8102051358.618164\n",
      "Epoch:  24 /70 Training loss:  8096137781.055664\n",
      "Epoch:  25 /70 Training loss:  8090269117.57373\n",
      "Epoch:  26 /70 Training loss:  8084445294.999023\n",
      "Epoch:  27 /70 Training loss:  8078666574.8203125\n",
      "Epoch:  28 /70 Training loss:  8072931952.527344\n",
      "Epoch:  29 /70 Training loss:  8067241833.058594\n",
      "Epoch:  30 /70 Training loss:  8061595778.386719\n",
      "Epoch:  31 /70 Training loss:  8055993891.730469\n",
      "Epoch:  32 /70 Training loss:  8050435740.500977\n",
      "Epoch:  33 /70 Training loss:  8044920909.860352\n",
      "Epoch:  34 /70 Training loss:  8039449885.239258\n",
      "Epoch:  35 /70 Training loss:  8034021814.6015625\n",
      "Epoch:  36 /70 Training loss:  8028636930.956055\n",
      "Epoch:  37 /70 Training loss:  8023294612.828125\n",
      "Epoch:  38 /70 Training loss:  8017995049.449219\n",
      "Epoch:  39 /70 Training loss:  8012737756.299805\n",
      "Epoch:  40 /70 Training loss:  8007522802.078125\n",
      "Epoch:  41 /70 Training loss:  8002349998.581055\n",
      "Epoch:  42 /70 Training loss:  7997218583.279297\n",
      "Epoch:  43 /70 Training loss:  7992129059.34375\n",
      "Epoch:  44 /70 Training loss:  7987081191.425781\n",
      "Epoch:  45 /70 Training loss:  7982074247.005859\n",
      "Epoch:  46 /70 Training loss:  7977108435.785156\n",
      "Epoch:  47 /70 Training loss:  7972183379.724609\n",
      "Epoch:  48 /70 Training loss:  7967299123.753906\n",
      "Epoch:  49 /70 Training loss:  7962455012.027344\n",
      "Epoch:  50 /70 Training loss:  7957651247.873047\n",
      "Epoch:  51 /70 Training loss:  7952887440.417969\n",
      "Epoch:  52 /70 Training loss:  7948163500.871094\n",
      "Epoch:  53 /70 Training loss:  7943478942.216797\n",
      "Epoch:  54 /70 Training loss:  7938833799.8984375\n",
      "Epoch:  55 /70 Training loss:  7934227959.724609\n",
      "Epoch:  56 /70 Training loss:  7929661042.751953\n",
      "Epoch:  57 /70 Training loss:  7925132716.792969\n",
      "Epoch:  58 /70 Training loss:  7920643172.271484\n",
      "Epoch:  59 /70 Training loss:  7916192002.451172\n",
      "Epoch:  60 /70 Training loss:  7911778573.90625\n",
      "Epoch:  61 /70 Training loss:  7907403929.271484\n",
      "Epoch:  62 /70 Training loss:  7903066115.115234\n",
      "Epoch:  63 /70 Training loss:  7898766282.292969\n",
      "Epoch:  64 /70 Training loss:  7894503878.5703125\n",
      "Epoch:  65 /70 Training loss:  7890278497.394531\n",
      "Epoch:  66 /70 Training loss:  7886090060.652344\n",
      "Epoch:  67 /70 Training loss:  7881938229.359375\n",
      "Epoch:  68 /70 Training loss:  7877822569.8359375\n",
      "Epoch:  69 /70 Training loss:  7873743627.2109375\n",
      "Epoch:  70 /70 Training loss:  7869700868.378906\n"
     ]
    },
    {
     "data": {
      "image/png": "[encoded data removed]",
      "text/plain": [
       "<Figure size 432x288 with 1 Axes>"
      ]
     },
     "metadata": {
      "needs_background": "light"
     },
     "output_type": "display_data"
    }
   ],
   "source": [
    "epochs=70\n",
    "training_loss_val=[]\n",
    "print(\"Training\")\n",
    "print(5*'\\n')\n",
    "for epoch in range(epochs):\n",
    "    \n",
    "   \n",
    "    loss_sum = 0\n",
    "    for  i,(data,rtwt) in enumerate(train_loader):\n",
    "        \n",
    "        outputs = model(torch.t(data))\n",
    "        loss = criterion(outputs, torch.t(rtwt))\n",
    "        loss_sum+=loss.item()\n",
    "        \n",
    "        \n",
    "        \n",
    "        loss.backward()\n",
    "        optimizer.step()\n",
    "        \n",
    "        optimizer.zero_grad()\n",
    "    \n",
    "    print(\"Epoch: \",epoch+1,'/70','Training loss: ',np.mean(loss_sum))\n",
    "        \n",
    "    \n",
    "        \n",
    "    training_loss_val.append(np.mean(loss_sum))\n",
    "\n",
    "plt.plot(list(range(70)),training_loss_val)\n",
    "plt.title(\"Training loss by epoch\")\n",
    "plt.xlabel(\"Epoch\")\n",
    "plt.ylabel(\"Training loss\")\n",
    "plt.show()\n",
    "        \n",
    "        "
   ]
  },
  {
   "cell_type": "code",
   "execution_count": 253,
   "metadata": {},
   "outputs": [
    {
     "name": "stdout",
     "output_type": "stream",
     "text": [
      "Testing\n",
      "\n",
      "\n",
      "\n",
      "\n",
      "\n",
      "\n"
     ]
    },
    {
     "data": {
      "image/png": "[encoded data removed]",
      "text/plain": [
       "<Figure size 432x288 with 1 Axes>"
      ]
     },
     "metadata": {
      "needs_background": "light"
     },
     "output_type": "display_data"
    },
    {
     "name": "stdout",
     "output_type": "stream",
     "text": [
      "RMSE value:  3888.5208179446004\n"
     ]
    }
   ],
   "source": [
    "import math\n",
    "loss_value=[]\n",
    "print(\"Testing\")\n",
    "print(5*'\\n')\n",
    "with torch.no_grad():\n",
    "    for  i,(data,rtwt) in enumerate(test_loader):\n",
    "\n",
    "        pred = model(torch.t(data))\n",
    "        loss = criterion(outputs, torch.t(rtwt))\n",
    "        loss_value.append(loss.item())\n",
    "        \n",
    "\n",
    "\n",
    "plt.plot(list(range(len(test_loader))),loss_value)\n",
    "plt.show()\n",
    "    \n",
    "        \n",
    "\n",
    "avg_loss = sum(loss_value)/len(test_loader)\n",
    "       \n",
    "\n",
    "    \n",
    "total_rmse_loss= math.sqrt(avg_loss)\n",
    "print('RMSE value: ',total_loss)\n",
    "        "
   ]
  },
  {
   "cell_type": "code",
   "execution_count": null,
   "metadata": {},
   "outputs": [],
   "source": []
  }
 ],
 "metadata": {
  "kernelspec": {
   "display_name": "Python 3",
   "language": "python",
   "name": "python3"
  },
  "language_info": {
   "codemirror_mode": {
    "name": "ipython",
    "version": 3
   },
   "file_extension": ".py",
   "mimetype": "text/x-python",
   "name": "python",
   "nbconvert_exporter": "python",
   "pygments_lexer": "ipython3",
   "version": "3.7.4"
  }
 },
 "nbformat": 4,
 "nbformat_minor": 2
}

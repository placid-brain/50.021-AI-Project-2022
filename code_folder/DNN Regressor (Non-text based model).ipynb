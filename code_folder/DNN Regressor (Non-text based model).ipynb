{
 "cells": [
  {
   "cell_type": "code",
   "execution_count": 8,
   "metadata": {},
   "outputs": [],
   "source": [
    "import torch\n",
    "import torch.nn as nn\n",
    "import pandas as pd\n",
    "from torch import optim\n",
    "import matplotlib.pyplot as plt\n",
    "import pickle\n",
    "from sklearn.preprocessing import StandardScaler\n",
    "from sklearn.model_selection import train_test_split\n"
   ]
  },
  {
   "cell_type": "code",
   "execution_count": 9,
   "metadata": {},
   "outputs": [
    {
     "name": "stdout",
     "output_type": "stream",
     "text": [
      "   Unnamed: 0  compound  is_retweeted_encoded  day  hour_posted  \\\n",
      "0        9069    0.2960                   0.0  4.0         18.0   \n",
      "1        2603    0.2263                   1.0  4.0         12.0   \n",
      "2        7738    0.0000                   1.0  4.0         17.0   \n",
      "3        1579    0.4019                   1.0  2.0         20.0   \n",
      "4        5058    0.0000                   1.0  4.0         13.0   \n",
      "\n",
      "   original_author_class  \n",
      "0               169156.0  \n",
      "1                18220.0  \n",
      "2               189549.0  \n",
      "3                94628.0  \n",
      "4                16234.0  \n",
      "\n",
      "\n",
      "   Unnamed: 0  retweet_count\n",
      "0        9069           83.0\n",
      "1        2603         1350.0\n",
      "2        7738         6343.0\n",
      "3        1579          581.0\n",
      "4        5058           19.0\n",
      "\n",
      "\n",
      "   Unnamed: 0  compound  is_retweeted_encoded  day  hour_posted  \\\n",
      "0        6252    0.1779                   1.0  4.0         14.0   \n",
      "1        4684    0.5106                   1.0  4.0         13.0   \n",
      "2        1731    0.0000                   0.0  2.0         21.0   \n",
      "3        4742    0.1531                   1.0  4.0         13.0   \n",
      "4        4521    0.0000                   1.0  4.0         13.0   \n",
      "\n",
      "   original_author_class  \n",
      "0               199642.0  \n",
      "1               215937.0  \n",
      "2               164047.0  \n",
      "3               178735.0  \n",
      "4               215711.0  \n",
      "\n",
      "\n",
      "   Unnamed: 0  retweet_count\n",
      "0        6252          375.0\n",
      "1        4684           23.0\n",
      "2        1731          105.0\n",
      "3        4742            1.0\n",
      "4        4521          265.0\n"
     ]
    }
   ],
   "source": [
    "df_x_train = pd.read_csv(\"/Users/placid_brain/Documents/non text content based models/7_aug/train/X_train.csv\")\n",
    "df_y_train = pd.read_csv(\"/Users/placid_brain/Documents/non text content based models/7_aug/train/y_train.csv\")\n",
    "\n",
    "df_x_test = pd.read_csv(\"/Users/placid_brain/Documents/non text content based models/7_aug/test/X_test.csv\")\n",
    "df_y_test = pd.read_csv(\"/Users/placid_brain/Documents/non text content based models/7_aug/test/y_test.csv\")\n",
    "\n",
    "df_x_train = df_x_train.drop([\"original_text\"], axis=1)\n",
    "df_x_test = df_x_test.drop([\"original_text\"], axis=1)\n",
    "\n",
    "print(df_x_train.head())\n",
    "print('\\n')\n",
    "print(df_y_train.head())\n",
    "print('\\n')\n",
    "print(df_x_test.head())\n",
    "print('\\n')\n",
    "print(df_y_test.head())\n",
    "\n",
    "\n",
    "\n"
   ]
  },
  {
   "cell_type": "code",
   "execution_count": 10,
   "metadata": {},
   "outputs": [
    {
     "name": "stdout",
     "output_type": "stream",
     "text": [
      "   compound  is_retweeted_encoded  day  hour_posted  original_author_class  \\\n",
      "0    0.2960                   0.0  4.0         18.0               169156.0   \n",
      "1    0.2263                   1.0  4.0         12.0                18220.0   \n",
      "2    0.0000                   1.0  4.0         17.0               189549.0   \n",
      "3    0.4019                   1.0  2.0         20.0                94628.0   \n",
      "4    0.0000                   1.0  4.0         13.0                16234.0   \n",
      "\n",
      "   retweet_count  \n",
      "0           83.0  \n",
      "1         1350.0  \n",
      "2         6343.0  \n",
      "3          581.0  \n",
      "4           19.0  \n",
      "   compound  is_retweeted_encoded  day  hour_posted  original_author_class  \\\n",
      "0    0.1779                   1.0  4.0         14.0               199642.0   \n",
      "1    0.5106                   1.0  4.0         13.0               215937.0   \n",
      "2    0.0000                   0.0  2.0         21.0               164047.0   \n",
      "3    0.1531                   1.0  4.0         13.0               178735.0   \n",
      "4    0.0000                   1.0  4.0         13.0               215711.0   \n",
      "\n",
      "   retweet_count  \n",
      "0          375.0  \n",
      "1           23.0  \n",
      "2          105.0  \n",
      "3            1.0  \n",
      "4          265.0  \n",
      "      compound  is_retweeted_encoded  day  hour_posted  original_author_class  \\\n",
      "0       0.2960                   0.0  4.0         18.0               169156.0   \n",
      "1       0.2263                   1.0  4.0         12.0                18220.0   \n",
      "2       0.0000                   1.0  4.0         17.0               189549.0   \n",
      "3       0.4019                   1.0  2.0         20.0                94628.0   \n",
      "4       0.0000                   1.0  4.0         13.0                16234.0   \n",
      "...        ...                   ...  ...          ...                    ...   \n",
      "2995    0.0000                   1.0  4.0         17.0                59037.0   \n",
      "2996    0.7184                   1.0  6.0         23.0                56131.0   \n",
      "2997   -0.5574                   1.0  4.0         12.0               132568.0   \n",
      "2998    0.0000                   1.0  4.0         15.0               107034.0   \n",
      "2999    0.5267                   1.0  4.0         13.0               235523.0   \n",
      "\n",
      "      retweet_count  \n",
      "0              83.0  \n",
      "1            1350.0  \n",
      "2            6343.0  \n",
      "3             581.0  \n",
      "4              19.0  \n",
      "...             ...  \n",
      "2995           12.0  \n",
      "2996         1850.0  \n",
      "2997          396.0  \n",
      "2998         2059.0  \n",
      "2999            0.0  \n",
      "\n",
      "[10000 rows x 6 columns]\n",
      "(10000, 6)\n"
     ]
    }
   ],
   "source": [
    "df_x_train.drop(df_x_train.columns[[0]], axis=1,inplace=True)\n",
    "df_y_train.drop(df_y_train.columns[[0]], axis=1,inplace=True)\n",
    "df_x_test.drop(df_x_test.columns[[0]], axis=1,inplace=True)\n",
    "df_y_test.drop(df_y_test.columns[[0]], axis=1,inplace=True)\n",
    "#print(df_x_train.head())\n",
    "#print(df_y_train.head())\n",
    "train_df = pd.concat([df_x_train,df_y_train],axis=1)\n",
    "print(train_df.head())\n",
    "test_df = pd.concat([df_x_test,df_y_test],axis=1)\n",
    "print(test_df.head())\n",
    "\n",
    "whole_df = pd.concat([train_df,test_df],axis=0)\n",
    "print(whole_df)\n",
    "print(whole_df.shape)\n",
    "whole_df.drop('original_author_class',axis=1,inplace=True)\n",
    "y = whole_df['retweet_count']\n",
    "x= whole_df.drop('retweet_count',axis=1)\n",
    "\n",
    "\n",
    "scaler = StandardScaler()\n",
    "\n",
    "x = scaler.fit_transform(x)\n",
    "\n",
    "df_x_train, df_x_test, df_y_train, df_y_test = train_test_split(x, y, train_size=0.7, random_state=1)\n",
    "\n"
   ]
  },
  {
   "cell_type": "code",
   "execution_count": 11,
   "metadata": {},
   "outputs": [
    {
     "name": "stdout",
     "output_type": "stream",
     "text": [
      "4\n"
     ]
    }
   ],
   "source": [
    "n_features = x.shape[1]\n",
    "print(n_features)"
   ]
  },
  {
   "cell_type": "code",
   "execution_count": 12,
   "metadata": {},
   "outputs": [],
   "source": [
    "import torch.nn.functional as F\n",
    "\n",
    "class DNNRegressor(nn.Module):\n",
    "    def __init__(self, n_input_features):\n",
    "        super(DNNRegressor, self).__init__()\n",
    "        \n",
    "        self.linear1 = nn.Linear(n_input_features, 50)\n",
    "        \n",
    "        self.relu1 = nn.ReLU()\n",
    "        \n",
    "        self.linear2 = nn.Linear(50,10)\n",
    "        \n",
    "        self.relu2 = nn.ReLU()\n",
    "        \n",
    "        self.linear3 = nn.Linear(10,1)\n",
    "        \n",
    "        \n",
    "        \n",
    "    def forward(self,x):\n",
    "        \n",
    "        linear1 = self.linear1(x)\n",
    "        \n",
    "        relu1= self.relu1(linear1)\n",
    "        \n",
    "        linear2 = self.linear2(relu1)\n",
    "        \n",
    "        relu2 = self.relu2(linear2)\n",
    "        \n",
    "        linear3 = self.linear3(relu2)\n",
    "        \n",
    "        \n",
    "        return linear3\n",
    "        "
   ]
  },
  {
   "cell_type": "code",
   "execution_count": 13,
   "metadata": {},
   "outputs": [],
   "source": [
    "model = DNNRegressor(n_features)"
   ]
  },
  {
   "cell_type": "code",
   "execution_count": 14,
   "metadata": {},
   "outputs": [
    {
     "data": {
      "text/plain": [
       "<bound method Module.parameters of DNNRegressor(\n",
       "  (linear1): Linear(in_features=4, out_features=50, bias=True)\n",
       "  (relu1): ReLU()\n",
       "  (linear2): Linear(in_features=50, out_features=10, bias=True)\n",
       "  (relu2): ReLU()\n",
       "  (linear3): Linear(in_features=10, out_features=1, bias=True)\n",
       ")>"
      ]
     },
     "execution_count": 14,
     "metadata": {},
     "output_type": "execute_result"
    }
   ],
   "source": [
    "model.parameters"
   ]
  },
  {
   "cell_type": "code",
   "execution_count": 15,
   "metadata": {
    "scrolled": true
   },
   "outputs": [
    {
     "name": "stdout",
     "output_type": "stream",
     "text": [
      "tensor([[-2.1027,  0.5841,  0.0030, -0.4045],\n",
      "        [-0.0152,  0.5841,  0.0030,  0.4439],\n",
      "        [-0.0152, -1.7120,  0.0030, -1.2530],\n",
      "        ...,\n",
      "        [-0.0152,  0.5841,  0.0030,  0.4439],\n",
      "        [-0.7127,  0.5841,  0.0030, -0.4045],\n",
      "        [-0.0152,  0.5841,  0.0030,  0.4439]])\n",
      "torch.Size([7000, 4])\n",
      "tensor([  0., 184.,  85.,  ..., 122.,   1.,   0.])\n",
      "torch.Size([7000])\n"
     ]
    }
   ],
   "source": [
    "import numpy as np\n",
    "\n",
    "'''df_x_train=df_x_train.to_numpy()\n",
    "df_y_train=df_y_train.to_numpy()\n",
    "df_x_test=df_x_test.to_numpy()\n",
    "df_y_test=df_y_test.to_numpy()\n",
    "\n",
    "torch_x_train = torch.from_numpy(df_x_train.astype(np.float32))\n",
    "torch_x_test = torch.from_numpy(df_x_test.astype(np.float32))\n",
    "torch_y_train = torch.from_numpy(df_y_train.astype(np.float32))\n",
    "torch_y_test = torch.from_numpy(df_y_test.astype(np.float32))'''\n",
    "\n",
    "\n",
    "df_x_train = torch.tensor(df_x_train).type(torch.float32)\n",
    "df_y_train = torch.tensor(np.array(df_y_train)).type(torch.float32)\n",
    "\n",
    "df_x_test = torch.tensor(df_x_test).type(torch.float32)\n",
    "df_y_test = torch.tensor(np.array(df_y_test)).type(torch.float32)\n",
    "\n",
    "print(df_x_train)\n",
    "print(df_x_train.size())\n",
    "print(df_y_train)\n",
    "print(df_y_train.size())"
   ]
  },
  {
   "cell_type": "code",
   "execution_count": 16,
   "metadata": {},
   "outputs": [],
   "source": [
    "optimizer = torch.optim.Adam(model.parameters(), lr=0.01)\n",
    "criterion = nn.MSELoss()"
   ]
  },
  {
   "cell_type": "code",
   "execution_count": 17,
   "metadata": {},
   "outputs": [
    {
     "name": "stderr",
     "output_type": "stream",
     "text": [
      "/Users/placid_brain/opt/anaconda3/lib/python3.7/site-packages/torch/nn/modules/loss.py:530: UserWarning: Using a target size (torch.Size([])) that is different to the input size (torch.Size([1])). This will likely lead to incorrect results due to broadcasting. Please ensure they have the same size.\n",
      "  return F.mse_loss(input, target, reduction=self.reduction)\n"
     ]
    },
    {
     "name": "stdout",
     "output_type": "stream",
     "text": [
      "epoch:  0 training loss:  11719266.889142858\n",
      "epoch:  1 training loss:  23397742.29942857\n",
      "epoch:  2 training loss:  35072692.80914286\n",
      "epoch:  3 training loss:  46744549.08342857\n",
      "epoch:  4 training loss:  58413767.53371429\n",
      "epoch:  5 training loss:  70080102.4\n",
      "epoch:  6 training loss:  81743932.85485715\n",
      "epoch:  7 training loss:  93403339.62971428\n",
      "epoch:  8 training loss:  105055949.38514286\n",
      "epoch:  9 training loss:  116703016.66742857\n",
      "epoch:  10 training loss:  128344794.25828572\n",
      "epoch:  11 training loss:  139981890.70628572\n",
      "epoch:  12 training loss:  151615008.18285716\n",
      "epoch:  13 training loss:  163245813.17485714\n",
      "epoch:  14 training loss:  174873678.40914285\n",
      "epoch:  15 training loss:  186498023.424\n",
      "epoch:  16 training loss:  198120683.2274286\n",
      "epoch:  17 training loss:  209738905.30742857\n",
      "epoch:  18 training loss:  221353288.8502857\n",
      "epoch:  19 training loss:  232966623.81714284\n",
      "epoch:  20 training loss:  244576213.8697143\n",
      "epoch:  21 training loss:  256181609.61828572\n",
      "epoch:  22 training loss:  267784571.17257142\n",
      "epoch:  23 training loss:  279393487.1405714\n",
      "epoch:  24 training loss:  290993845.9794286\n"
     ]
    },
    {
     "data": {
      "image/png": "[encoded data removed]",
      "text/plain": [
       "<Figure size 432x288 with 1 Axes>"
      ]
     },
     "metadata": {
      "needs_background": "light"
     },
     "output_type": "display_data"
    }
   ],
   "source": [
    "loss_val_over_epochs=[]\n",
    "loss_sub = 0\n",
    "for i in range(0,25):\n",
    "    \n",
    "\n",
    "    for x,y in zip(df_x_train, df_y_train):\n",
    "        optimizer.zero_grad()\n",
    "        output = model(x)\n",
    "        \n",
    "        loss = criterion(output,y)\n",
    "        \n",
    "        loss_sub+=loss\n",
    "        \n",
    "        loss.backward()\n",
    "        optimizer.step()\n",
    "    \n",
    "    loss_val_over_epochs.append((loss_sub).item()/len(df_x_train))\n",
    "    print('epoch: ',i, 'training loss: ',loss_val_over_epochs[i])\n",
    "    \n",
    "\n",
    "plt.plot(list(range(25)),loss_val_over_epochs)\n",
    "plt.xlabel('Epoch')\n",
    "plt.ylabel(\"Training loss\")\n",
    "plt.title(\"Training loss for each epoch\")\n",
    "plt.show()\n"
   ]
  },
  {
   "cell_type": "code",
   "execution_count": 18,
   "metadata": {},
   "outputs": [
    {
     "name": "stdout",
     "output_type": "stream",
     "text": [
      "RMSE value:  3501.5134\n"
     ]
    }
   ],
   "source": [
    "total_loss = 0\n",
    "\n",
    "for x,y in zip(df_x_test, df_y_test):\n",
    "    \n",
    "    pred = model(x)\n",
    "    loss = criterion(pred, y)\n",
    "    total_loss+=loss\n",
    "\n",
    "rmse_val = torch.sqrt(total_loss / len(df_x_test)).detach().numpy()\n",
    "print('RMSE value: ',rmse_val)"
   ]
  },
  {
   "cell_type": "code",
   "execution_count": 19,
   "metadata": {},
   "outputs": [],
   "source": [
    "pickle.dump(model, open(\"/Users/placid_brain/Documents/non text content based models/final_pickle_ver_7\", 'wb'))"
   ]
  },
  {
   "cell_type": "code",
   "execution_count": 20,
   "metadata": {},
   "outputs": [
    {
     "name": "stdout",
     "output_type": "stream",
     "text": [
      "tensor([9373.1680], grad_fn=<AddBackward0>)\n"
     ]
    }
   ],
   "source": [
    "single_sample_1 = np.array([0.43,0.0,4.0,13.0])\n",
    "single_sample_1 = torch.from_numpy(single_sample_1.astype(np.float32))\n",
    "pred_single_1 = model(single_sample_1)\n",
    "print(pred_single_1)"
   ]
  },
  {
   "cell_type": "code",
   "execution_count": 21,
   "metadata": {},
   "outputs": [
    {
     "name": "stdout",
     "output_type": "stream",
     "text": [
      "tensor([1280.6023], grad_fn=<AddBackward0>)\n"
     ]
    }
   ],
   "source": [
    "single_sample_2 = np.array([0.382,0.0,0.0,1.0  ])\n",
    "single_sample_2 = torch.from_numpy(single_sample_2.astype(np.float32))\n",
    "pred_single_2 = model(single_sample_2)\n",
    "print(pred_single_2)"
   ]
  },
  {
   "cell_type": "code",
   "execution_count": 22,
   "metadata": {},
   "outputs": [
    {
     "name": "stdout",
     "output_type": "stream",
     "text": [
      "tensor([15099.6885], grad_fn=<AddBackward0>)\n"
     ]
    }
   ],
   "source": [
    "single_sample_3 = np.array([0.6312,1.0,3.0,21.0    ])\n",
    "single_sample_3 = torch.from_numpy(single_sample_3.astype(np.float32))\n",
    "pred_single_3 = model(single_sample_3)\n",
    "print(pred_single_3)"
   ]
  },
  {
   "cell_type": "code",
   "execution_count": null,
   "metadata": {},
   "outputs": [],
   "source": []
  }
 ],
 "metadata": {
  "kernelspec": {
   "display_name": "Python 3",
   "language": "python",
   "name": "python3"
  },
  "language_info": {
   "codemirror_mode": {
    "name": "ipython",
    "version": 3
   },
   "file_extension": ".py",
   "mimetype": "text/x-python",
   "name": "python",
   "nbconvert_exporter": "python",
   "pygments_lexer": "ipython3",
   "version": "3.7.4"
  }
 },
 "nbformat": 4,
 "nbformat_minor": 2
}

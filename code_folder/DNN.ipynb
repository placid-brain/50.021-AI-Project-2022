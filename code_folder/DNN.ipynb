{
  "nbformat": 4,
  "nbformat_minor": 0,
  "metadata": {
    "colab": {
      "name": "DNN.ipynb",
      "provenance": [],
      "collapsed_sections": []
    },
    "kernelspec": {
      "name": "python3",
      "display_name": "Python 3"
    },
    "language_info": {
      "name": "python"
    },
    "accelerator": "GPU",
    "gpuClass": "standard"
  },
  "cells": [
    {
      "cell_type": "code",
      "source": [
        "# model and trial"
      ],
      "metadata": {
        "id": "yE7HeiwYqilM"
      },
      "execution_count": null,
      "outputs": []
    },
    {
      "cell_type": "code",
      "source": [
        "from google.colab import drive\n",
        "\n",
        "# This will prompt for authorization.\n",
        "drive.mount('/content/drive')"
      ],
      "metadata": {
        "colab": {
          "base_uri": "https://localhost:8080/"
        },
        "id": "2KuJ3TL-X0A6",
        "outputId": "f3c0acdf-f535-447b-d1cc-23814881c423"
      },
      "execution_count": null,
      "outputs": [
        {
          "output_type": "stream",
          "name": "stdout",
          "text": [
            "Mounted at /content/drive\n"
          ]
        }
      ]
    },
    {
      "cell_type": "code",
      "source": [
        "!ls '/content/drive/MyDrive/tweet_content_only'"
      ],
      "metadata": {
        "colab": {
          "base_uri": "https://localhost:8080/"
        },
        "id": "r5i82I84YEF9",
        "outputId": "dc266e89-2383-4a8e-d09d-e22cac8c0dc2"
      },
      "execution_count": null,
      "outputs": [
        {
          "output_type": "stream",
          "name": "stdout",
          "text": [
            "test  train\n"
          ]
        }
      ]
    },
    {
      "cell_type": "code",
      "source": [
        "import pandas as pd\n",
        "\n",
        "\n",
        "df_x1 = pd.read_csv(\"/content/drive/MyDrive/tweet_content_only/train/X_train.csv\")\n",
        "df_y1 = pd.read_csv(\"/content/drive/MyDrive/tweet_content_only/train/y_train.csv\")\n",
        "df_train = pd.concat([df_x1,df_y1], axis=1)\n",
        "\n",
        "df_x2 = pd.read_csv(\"/content/drive/MyDrive/tweet_content_only/test/X_test.csv\")\n",
        "df_y2 = pd.read_csv(\"/content/drive/MyDrive/tweet_content_only/test/y_test.csv\")\n",
        "df_test = pd.concat([df_x2,df_y2], axis=1)\n",
        "\n",
        "df_train.head()\n",
        "#df_test.head()"
      ],
      "metadata": {
        "colab": {
          "base_uri": "https://localhost:8080/",
          "height": 206
        },
        "id": "Dow2EHaRVqbE",
        "outputId": "9e822105-5096-43be-a57b-be85dac085af"
      },
      "execution_count": null,
      "outputs": [
        {
          "output_type": "execute_result",
          "data": {
            "text/plain": [
              "   Unnamed: 0  original_id                                      original_text  \\\n",
              "0           0         9069  organizing building power marginalized communi...   \n",
              "1           1         2603  rt freemanilo need bbnaija year we are housema...   \n",
              "2           2         7738  rt xhnews china inactivated covid 19 vaccine e...   \n",
              "3           3         1579  rt sjpeace black doctor miami hero testing hom...   \n",
              "4           4         5058  rt aurobindabose1 tip recovered celebrity covi...   \n",
              "\n",
              "   Unnamed: 0  original_id  retweet_count  \n",
              "0           0         9069           83.0  \n",
              "1           1         2603         1350.0  \n",
              "2           2         7738         6343.0  \n",
              "3           3         1579          581.0  \n",
              "4           4         5058           19.0  "
            ],
            "text/html": [
              "\n",
              "  <div id=\"df-d97940ed-51de-4582-beab-3f668141d473\">\n",
              "    <div class=\"colab-df-container\">\n",
              "      <div>\n",
              "<style scoped>\n",
              "    .dataframe tbody tr th:only-of-type {\n",
              "        vertical-align: middle;\n",
              "    }\n",
              "\n",
              "    .dataframe tbody tr th {\n",
              "        vertical-align: top;\n",
              "    }\n",
              "\n",
              "    .dataframe thead th {\n",
              "        text-align: right;\n",
              "    }\n",
              "</style>\n",
              "<table border=\"1\" class=\"dataframe\">\n",
              "  <thead>\n",
              "    <tr style=\"text-align: right;\">\n",
              "      <th></th>\n",
              "      <th>Unnamed: 0</th>\n",
              "      <th>original_id</th>\n",
              "      <th>original_text</th>\n",
              "      <th>Unnamed: 0</th>\n",
              "      <th>original_id</th>\n",
              "      <th>retweet_count</th>\n",
              "    </tr>\n",
              "  </thead>\n",
              "  <tbody>\n",
              "    <tr>\n",
              "      <th>0</th>\n",
              "      <td>0</td>\n",
              "      <td>9069</td>\n",
              "      <td>organizing building power marginalized communi...</td>\n",
              "      <td>0</td>\n",
              "      <td>9069</td>\n",
              "      <td>83.0</td>\n",
              "    </tr>\n",
              "    <tr>\n",
              "      <th>1</th>\n",
              "      <td>1</td>\n",
              "      <td>2603</td>\n",
              "      <td>rt freemanilo need bbnaija year we are housema...</td>\n",
              "      <td>1</td>\n",
              "      <td>2603</td>\n",
              "      <td>1350.0</td>\n",
              "    </tr>\n",
              "    <tr>\n",
              "      <th>2</th>\n",
              "      <td>2</td>\n",
              "      <td>7738</td>\n",
              "      <td>rt xhnews china inactivated covid 19 vaccine e...</td>\n",
              "      <td>2</td>\n",
              "      <td>7738</td>\n",
              "      <td>6343.0</td>\n",
              "    </tr>\n",
              "    <tr>\n",
              "      <th>3</th>\n",
              "      <td>3</td>\n",
              "      <td>1579</td>\n",
              "      <td>rt sjpeace black doctor miami hero testing hom...</td>\n",
              "      <td>3</td>\n",
              "      <td>1579</td>\n",
              "      <td>581.0</td>\n",
              "    </tr>\n",
              "    <tr>\n",
              "      <th>4</th>\n",
              "      <td>4</td>\n",
              "      <td>5058</td>\n",
              "      <td>rt aurobindabose1 tip recovered celebrity covi...</td>\n",
              "      <td>4</td>\n",
              "      <td>5058</td>\n",
              "      <td>19.0</td>\n",
              "    </tr>\n",
              "  </tbody>\n",
              "</table>\n",
              "</div>\n",
              "      <button class=\"colab-df-convert\" onclick=\"convertToInteractive('df-d97940ed-51de-4582-beab-3f668141d473')\"\n",
              "              title=\"Convert this dataframe to an interactive table.\"\n",
              "              style=\"display:none;\">\n",
              "        \n",
              "  <svg xmlns=\"http://www.w3.org/2000/svg\" height=\"24px\"viewBox=\"0 0 24 24\"\n",
              "       width=\"24px\">\n",
              "    <path d=\"M0 0h24v24H0V0z\" fill=\"none\"/>\n",
              "    <path d=\"M18.56 5.44l.94 2.06.94-2.06 2.06-.94-2.06-.94-.94-2.06-.94 2.06-2.06.94zm-11 1L8.5 8.5l.94-2.06 2.06-.94-2.06-.94L8.5 2.5l-.94 2.06-2.06.94zm10 10l.94 2.06.94-2.06 2.06-.94-2.06-.94-.94-2.06-.94 2.06-2.06.94z\"/><path d=\"M17.41 7.96l-1.37-1.37c-.4-.4-.92-.59-1.43-.59-.52 0-1.04.2-1.43.59L10.3 9.45l-7.72 7.72c-.78.78-.78 2.05 0 2.83L4 21.41c.39.39.9.59 1.41.59.51 0 1.02-.2 1.41-.59l7.78-7.78 2.81-2.81c.8-.78.8-2.07 0-2.86zM5.41 20L4 18.59l7.72-7.72 1.47 1.35L5.41 20z\"/>\n",
              "  </svg>\n",
              "      </button>\n",
              "      \n",
              "  <style>\n",
              "    .colab-df-container {\n",
              "      display:flex;\n",
              "      flex-wrap:wrap;\n",
              "      gap: 12px;\n",
              "    }\n",
              "\n",
              "    .colab-df-convert {\n",
              "      background-color: #E8F0FE;\n",
              "      border: none;\n",
              "      border-radius: 50%;\n",
              "      cursor: pointer;\n",
              "      display: none;\n",
              "      fill: #1967D2;\n",
              "      height: 32px;\n",
              "      padding: 0 0 0 0;\n",
              "      width: 32px;\n",
              "    }\n",
              "\n",
              "    .colab-df-convert:hover {\n",
              "      background-color: #E2EBFA;\n",
              "      box-shadow: 0px 1px 2px rgba(60, 64, 67, 0.3), 0px 1px 3px 1px rgba(60, 64, 67, 0.15);\n",
              "      fill: #174EA6;\n",
              "    }\n",
              "\n",
              "    [theme=dark] .colab-df-convert {\n",
              "      background-color: #3B4455;\n",
              "      fill: #D2E3FC;\n",
              "    }\n",
              "\n",
              "    [theme=dark] .colab-df-convert:hover {\n",
              "      background-color: #434B5C;\n",
              "      box-shadow: 0px 1px 3px 1px rgba(0, 0, 0, 0.15);\n",
              "      filter: drop-shadow(0px 1px 2px rgba(0, 0, 0, 0.3));\n",
              "      fill: #FFFFFF;\n",
              "    }\n",
              "  </style>\n",
              "\n",
              "      <script>\n",
              "        const buttonEl =\n",
              "          document.querySelector('#df-d97940ed-51de-4582-beab-3f668141d473 button.colab-df-convert');\n",
              "        buttonEl.style.display =\n",
              "          google.colab.kernel.accessAllowed ? 'block' : 'none';\n",
              "\n",
              "        async function convertToInteractive(key) {\n",
              "          const element = document.querySelector('#df-d97940ed-51de-4582-beab-3f668141d473');\n",
              "          const dataTable =\n",
              "            await google.colab.kernel.invokeFunction('convertToInteractive',\n",
              "                                                     [key], {});\n",
              "          if (!dataTable) return;\n",
              "\n",
              "          const docLinkHtml = 'Like what you see? Visit the ' +\n",
              "            '<a target=\"_blank\" href=https://colab.research.google.com/notebooks/data_table.ipynb>data table notebook</a>'\n",
              "            + ' to learn more about interactive tables.';\n",
              "          element.innerHTML = '';\n",
              "          dataTable['output_type'] = 'display_data';\n",
              "          await google.colab.output.renderOutput(dataTable, element);\n",
              "          const docLink = document.createElement('div');\n",
              "          docLink.innerHTML = docLinkHtml;\n",
              "          element.appendChild(docLink);\n",
              "        }\n",
              "      </script>\n",
              "    </div>\n",
              "  </div>\n",
              "  "
            ]
          },
          "metadata": {},
          "execution_count": 4
        }
      ]
    },
    {
      "cell_type": "code",
      "source": [
        "df_train['original_text'][4]"
      ],
      "metadata": {
        "id": "yIprYsEYeJxV",
        "colab": {
          "base_uri": "https://localhost:8080/",
          "height": 35
        },
        "outputId": "8bfd8588-7096-417e-88ec-17577ee85bef"
      },
      "execution_count": null,
      "outputs": [
        {
          "output_type": "execute_result",
          "data": {
            "text/plain": [
              "'rt aurobindabose1 tip recovered celebrity covid 19 http co lm89qqywom'"
            ],
            "application/vnd.google.colaboratory.intrinsic+json": {
              "type": "string"
            }
          },
          "metadata": {},
          "execution_count": 5
        }
      ]
    },
    {
      "cell_type": "code",
      "source": [
        "import seaborn as sns\n",
        "import matplotlib.pyplot as plt\n",
        "#breakdown by class\n",
        "sns.countplot(x=\"original_text\", data=df_train, palette=\"muted\");"
      ],
      "metadata": {
        "colab": {
          "base_uri": "https://localhost:8080/",
          "height": 281
        },
        "id": "k74XGnAhTmwX",
        "outputId": "e8248ec9-1c39-4e92-87e8-ad474a8312aa"
      },
      "execution_count": null,
      "outputs": [
        {
          "output_type": "display_data",
          "data": {
            "text/plain": [
              "<Figure size 432x288 with 1 Axes>"
            ],
            "image/png": "[encoded data removed]"
          },
          "metadata": {
            "needs_background": "light"
          }
        }
      ]
    },
    {
      "cell_type": "code",
      "source": [
        "from sklearn.model_selection import train_test_split\n",
        "\n",
        "used_data, data_to_throw = train_test_split(df_train, test_size=0.5)\n",
        "train_data, test_data = train_test_split(used_data, test_size=0.2)"
      ],
      "metadata": {
        "id": "kJyoXqiBHTo_"
      },
      "execution_count": null,
      "outputs": []
    },
    {
      "cell_type": "code",
      "source": [
        "import torchtext\n",
        "tokenizer = torchtext.data.utils.get_tokenizer('basic_english')"
      ],
      "metadata": {
        "id": "CM_S0AidfQyh"
      },
      "execution_count": null,
      "outputs": []
    },
    {
      "cell_type": "code",
      "source": [
        "from collections import Counter, OrderedDict\n",
        "from torchtext.vocab import vocab\n",
        "VOCAB_SIZE = 500000\n",
        "# build the vocab\n",
        "counter = Counter()\n",
        "for label, line in enumerate(df_train):\n",
        "    counter.update(tokenizer(line))\n",
        "\n",
        "ordered_dict = OrderedDict(counter.most_common()[:VOCAB_SIZE])\n",
        "vocab = vocab(ordered_dict)\n",
        "\n",
        "# insert special tokens and set default index to 'unknown'\n",
        "vocab.insert_token('<PAD>', 0)\n",
        "vocab.insert_token('<UNK>', 1)\n",
        "vocab.set_default_index(1)"
      ],
      "metadata": {
        "id": "MI5-VFolfSqg"
      },
      "execution_count": null,
      "outputs": []
    },
    {
      "cell_type": "code",
      "source": [
        "import torch\n",
        "from torch.nn.utils.rnn import pad_sequence\n",
        "from torch.utils.data import DataLoader\n",
        "from torchtext.data.functional import to_map_style_dataset\n",
        "\n",
        "embed_len = 300\n",
        "\n",
        "device = torch.device(\"cuda\" if torch.cuda.is_available() else \"cpu\")\n",
        "\n",
        "def process_text(text):\n",
        "    return tokenizer(text)\n",
        "\n",
        "def collate_batch(batch):\n",
        "    label_list, text_list, lengths = [], [], []\n",
        "    for (_label, *_text) in batch:\n",
        "      print(_text)\n",
        "      for text in _text:\n",
        "        print(text)\n",
        "        processed_text = process_text(text)\n",
        "        print(processed_text)\n",
        "        processed_text = torch.tensor(process_text(text), dtype=torch.int64)\n",
        "        text_list.append(processed_text)\n",
        "        lengths.append(processed_text.size(0))\n",
        "    # label must be in the same size as target\n",
        "    label_list = torch.tensor(label_list, dtype=torch.float)[:,None]\n",
        "\n",
        "    text_list = pad_sequence(text_list, batch_first=True)\n",
        "    lengths = torch.tensor(lengths, dtype=torch.float)\n",
        "    return text_list.to(device), lengths.to(device)\n",
        "\n",
        "train_dataset, test_dataset = to_map_style_dataset(df_train), to_map_style_dataset(df_test)\n",
        "#validation_dataset = to_map_style_dataset(validation_dataset)\n",
        "\n",
        "train_loader = DataLoader(df_train, batch_size=1024, collate_fn=collate_batch)\n",
        "#val_loader = DataLoader(validation_dataset, batch_size=1024, collate_fn=collate_batch)\n",
        "test_loader  = DataLoader(df_test, batch_size=1024, collate_fn=collate_batch)"
      ],
      "metadata": {
        "id": "ra_NxFVlGj3E"
      },
      "execution_count": null,
      "outputs": []
    },
    {
      "cell_type": "code",
      "source": [
        "X_train = df_x1.iloc[:,0:-1].values\n",
        "y_train = df_y1.iloc[:,-1].values\n",
        "\n",
        "X_test = df_x2.iloc[:,0:-1].values\n",
        "y_test = df_y2.iloc[:,-1].values"
      ],
      "metadata": {
        "id": "DEty7ueQW9YS"
      },
      "execution_count": null,
      "outputs": []
    },
    {
      "cell_type": "code",
      "source": [
        "from sklearn.preprocessing import MinMaxScaler\n",
        "\n",
        "# define a new scaler: \n",
        "x_scaler = MinMaxScaler()\n",
        "\n",
        "# fit the normalization on the training set: \n",
        "x_scaler.fit(X_train)#todo\n",
        "\n",
        "# then create new and normalized training/test sets: \n",
        "X_train_norm = x_scaler.transform(X_train)\n",
        "X_test_norm = x_scaler.transform(X_test)"
      ],
      "metadata": {
        "id": "4aYL6U9I72BX"
      },
      "execution_count": null,
      "outputs": []
    },
    {
      "cell_type": "code",
      "source": [
        "# MLP model using sklearn\n",
        "from sklearn.neural_network import MLPClassifier\n",
        "\n",
        "# Create model object\n",
        "clf = MLPClassifier(hidden_layer_sizes=(128,32,8, 4),\n",
        "                    max_iter = 300,\n",
        "                    activation = 'relu',\n",
        "                    solver = 'adam',\n",
        "                    verbose=True,\n",
        "                    learning_rate_init=0.004)\n",
        "\n",
        "# Fit data onto the model\n",
        "clf.fit(X_train,y_train)"
      ],
      "metadata": {
        "id": "1sjrWCJJfVJC",
        "colab": {
          "base_uri": "https://localhost:8080/"
        },
        "outputId": "287825a9-e9ca-4cc1-9d5b-ffb97691ffb5"
      },
      "execution_count": null,
      "outputs": [
        {
          "output_type": "stream",
          "name": "stdout",
          "text": [
            "Iteration 1, loss = 8.07190321\n",
            "Iteration 2, loss = 5.67207470\n",
            "Iteration 3, loss = 5.48657394\n",
            "Iteration 4, loss = 5.47911998\n",
            "Iteration 5, loss = 5.46777860\n",
            "Iteration 6, loss = 5.44561590\n",
            "Iteration 7, loss = 5.39931006\n",
            "Iteration 8, loss = 5.38336097\n",
            "Iteration 9, loss = 5.36493322\n",
            "Iteration 10, loss = 5.37177486\n",
            "Iteration 11, loss = 5.36476474\n",
            "Iteration 12, loss = 5.33660130\n",
            "Iteration 13, loss = 5.32131426\n",
            "Iteration 14, loss = 5.31129371\n",
            "Iteration 15, loss = 5.29995351\n",
            "Iteration 16, loss = 5.31143743\n",
            "Iteration 17, loss = 5.28396081\n",
            "Iteration 18, loss = 5.28630272\n",
            "Iteration 19, loss = 5.27243351\n",
            "Iteration 20, loss = 5.25879920\n",
            "Iteration 21, loss = 5.24735729\n",
            "Iteration 22, loss = 5.23130456\n",
            "Iteration 23, loss = 5.22328725\n",
            "Iteration 24, loss = 5.21252774\n",
            "Iteration 25, loss = 5.21412688\n",
            "Iteration 26, loss = 5.19915829\n",
            "Iteration 27, loss = 5.18744718\n",
            "Iteration 28, loss = 5.18053384\n",
            "Iteration 29, loss = 5.18402469\n",
            "Iteration 30, loss = 5.16119051\n",
            "Iteration 31, loss = 5.14877085\n",
            "Iteration 32, loss = 5.15283955\n",
            "Iteration 33, loss = 5.13399732\n",
            "Iteration 34, loss = 5.12338471\n",
            "Iteration 35, loss = 5.11448439\n",
            "Iteration 36, loss = 5.11259227\n",
            "Iteration 37, loss = 5.10978777\n",
            "Iteration 38, loss = 5.10467304\n",
            "Iteration 39, loss = 5.09482538\n",
            "Iteration 40, loss = 5.08032691\n",
            "Iteration 41, loss = 5.08271251\n",
            "Iteration 42, loss = 5.07438290\n",
            "Iteration 43, loss = 5.06881454\n",
            "Iteration 44, loss = 5.05454653\n",
            "Iteration 45, loss = 5.04865194\n",
            "Iteration 46, loss = 5.04050363\n",
            "Iteration 47, loss = 5.03732952\n",
            "Iteration 48, loss = 5.03530153\n",
            "Iteration 49, loss = 5.02745161\n",
            "Iteration 50, loss = 5.02165406\n",
            "Iteration 51, loss = 5.01826083\n",
            "Iteration 52, loss = 5.03202589\n",
            "Iteration 53, loss = 5.03129918\n",
            "Iteration 54, loss = 5.02438779\n",
            "Iteration 55, loss = 4.99793669\n",
            "Iteration 56, loss = 4.99212826\n",
            "Iteration 57, loss = 4.98239692\n",
            "Iteration 58, loss = 4.98589774\n",
            "Iteration 59, loss = 4.97771238\n",
            "Iteration 60, loss = 4.97417809\n",
            "Iteration 61, loss = 4.97790895\n",
            "Iteration 62, loss = 4.97889366\n",
            "Iteration 63, loss = 4.96432792\n",
            "Iteration 64, loss = 4.96166649\n",
            "Iteration 65, loss = 4.95713343\n",
            "Iteration 66, loss = 4.97039303\n",
            "Iteration 67, loss = 4.95398399\n",
            "Iteration 68, loss = 4.98964959\n",
            "Iteration 69, loss = 4.96269172\n",
            "Iteration 70, loss = 4.96455357\n",
            "Iteration 71, loss = 4.96060698\n",
            "Iteration 72, loss = 4.95668684\n",
            "Iteration 73, loss = 4.94045968\n",
            "Iteration 74, loss = 4.93529439\n",
            "Iteration 75, loss = 4.93227536\n",
            "Iteration 76, loss = 4.98380635\n",
            "Iteration 77, loss = 4.94650485\n",
            "Iteration 78, loss = 4.96606783\n",
            "Iteration 79, loss = 4.93017165\n",
            "Iteration 80, loss = 4.92831434\n",
            "Iteration 81, loss = 4.93703079\n",
            "Iteration 82, loss = 4.93003576\n",
            "Iteration 83, loss = 4.92635145\n",
            "Iteration 84, loss = 4.94251039\n",
            "Iteration 85, loss = 4.92525143\n",
            "Iteration 86, loss = 4.91840121\n",
            "Iteration 87, loss = 4.91885695\n",
            "Iteration 88, loss = 4.92828977\n",
            "Iteration 89, loss = 4.92844551\n",
            "Iteration 90, loss = 4.93065300\n",
            "Iteration 91, loss = 4.93741166\n",
            "Iteration 92, loss = 4.92478550\n",
            "Iteration 93, loss = 4.92874694\n",
            "Iteration 94, loss = 4.91423352\n",
            "Iteration 95, loss = 4.90520101\n",
            "Iteration 96, loss = 4.92051826\n",
            "Iteration 97, loss = 4.91302869\n",
            "Iteration 98, loss = 4.90846371\n",
            "Iteration 99, loss = 4.90576671\n",
            "Iteration 100, loss = 4.90909679\n",
            "Iteration 101, loss = 4.90822813\n",
            "Iteration 102, loss = 4.91455722\n",
            "Iteration 103, loss = 4.90603899\n",
            "Iteration 104, loss = 4.92325273\n",
            "Iteration 105, loss = 4.90592093\n",
            "Iteration 106, loss = 4.90240711\n",
            "Iteration 107, loss = 4.90044117\n",
            "Iteration 108, loss = 4.90342259\n",
            "Iteration 109, loss = 4.90665831\n",
            "Iteration 110, loss = 4.91883294\n",
            "Iteration 111, loss = 4.90277827\n",
            "Iteration 112, loss = 4.90896791\n",
            "Iteration 113, loss = 4.89818043\n",
            "Iteration 114, loss = 4.89980019\n",
            "Iteration 115, loss = 4.90442293\n",
            "Iteration 116, loss = 4.90388265\n",
            "Iteration 117, loss = 4.89972246\n",
            "Iteration 118, loss = 4.89946005\n",
            "Iteration 119, loss = 4.89725559\n",
            "Iteration 120, loss = 4.88558727\n",
            "Iteration 121, loss = 4.89263331\n",
            "Iteration 122, loss = 4.89388656\n",
            "Iteration 123, loss = 4.89135863\n",
            "Iteration 124, loss = 4.89158671\n",
            "Iteration 125, loss = 4.88531691\n",
            "Iteration 126, loss = 4.87952659\n",
            "Iteration 127, loss = 4.89120677\n",
            "Iteration 128, loss = 4.90841411\n",
            "Iteration 129, loss = 4.89650221\n",
            "Iteration 130, loss = 4.89363576\n",
            "Iteration 131, loss = 4.90878201\n",
            "Iteration 132, loss = 4.90911543\n",
            "Iteration 133, loss = 4.88236914\n",
            "Iteration 134, loss = 4.88268729\n",
            "Iteration 135, loss = 4.87983821\n",
            "Iteration 136, loss = 4.88815333\n",
            "Iteration 137, loss = 4.89369142\n",
            "Training loss did not improve more than tol=0.000100 for 10 consecutive epochs. Stopping.\n"
          ]
        },
        {
          "output_type": "execute_result",
          "data": {
            "text/plain": [
              "MLPClassifier(hidden_layer_sizes=(128, 32, 8, 4), learning_rate_init=0.004,\n",
              "              max_iter=300, verbose=True)"
            ]
          },
          "metadata": {},
          "execution_count": 10
        }
      ]
    },
    {
      "cell_type": "code",
      "source": [
        "# Make prediction on test dataset\n",
        "ypred=clf.predict(X_test)"
      ],
      "metadata": {
        "id": "bemc8ZOmWsoS"
      },
      "execution_count": null,
      "outputs": []
    },
    {
      "cell_type": "code",
      "source": [
        "# Import accuracy score \n",
        "from sklearn.metrics import accuracy_score\n",
        "\n",
        "# Calcuate accuracy\n",
        "accuracy_score(y_test,ypred)"
      ],
      "metadata": {
        "colab": {
          "base_uri": "https://localhost:8080/"
        },
        "id": "_BO0XR3BVt0T",
        "outputId": "e3c0db41-bfb9-4403-ebb6-a2145eb8c7e5"
      },
      "execution_count": null,
      "outputs": [
        {
          "output_type": "execute_result",
          "data": {
            "text/plain": [
              "0.23"
            ]
          },
          "metadata": {},
          "execution_count": 13
        }
      ]
    },
    {
      "cell_type": "code",
      "source": [
        "def accuracy(confusion_matrix):\n",
        "   diagonal_sum = confusion_matrix.trace()\n",
        "   sum_of_all_elements = confusion_matrix.sum()\n",
        "   return diagonal_sum / sum_of_all_elements\n",
        "\n",
        "#Importing Confusion Matrix\n",
        "from sklearn.metrics import confusion_matrix\n",
        "#Comparing the predictions against the actual observations in y_val\n",
        "cm = confusion_matrix(ypred, y_test)\n",
        "\n",
        "#Printing the accuracy\n",
        "print(\"Accuracy of MLPClassifier : \" , accuracy(cm))"
      ],
      "metadata": {
        "colab": {
          "base_uri": "https://localhost:8080/"
        },
        "id": "u31V7ehFf9zy",
        "outputId": "a3038976-ab7d-4ed0-95a6-4513833280a5"
      },
      "execution_count": null,
      "outputs": [
        {
          "output_type": "stream",
          "name": "stdout",
          "text": [
            "Accuracy of MLPClassifier :  0.23\n"
          ]
        }
      ]
    },
    {
      "cell_type": "code",
      "source": [
        "# other model but not used\n",
        "import pandas as pd\n",
        "import torch\n",
        "import torch.optim as optim\n",
        "import torch.nn as nn\n",
        "import torch.nn.functional as F\n",
        "from torch.utils.data import Dataset, DataLoader\n",
        "import numpy as np\n",
        "\n",
        "# Device configuration\n",
        "device = torch.device('cuda' if torch.cuda.is_available() else 'cpu')\n",
        "\n",
        "# Hyper-parameters \n",
        "input_size = 784 # related to shape of dataset\n",
        "hidden_size = (50, 50, 50, 50)\n",
        "#num_classes = 10\n",
        "output_dim = 1\n",
        "num_epochs = 300\n",
        "batch_size = 100 # to be added with optimizer\n",
        "learning_rate = 0.001\n",
        "\n",
        "class DeepNeuralNetwork(nn.Module):\n",
        "    #def __init__(self, input_size, num_classes, num_hidden, hidden_dim, dropout)\n",
        "    def __init__(self, input_size, hidden_size, output_dim):\n",
        "        super(DeepNeuralNetwork, self).__init__()\n",
        "        self.hidden1 = nn.Linear(input_size, hidden_size[0]) \n",
        "        self.relu1 = nn.ReLU()\n",
        "        self.hidden2 = nn.Linear(hidden_size[0], hidden_size[1]) \n",
        "        self.relu2 = nn.ReLu() \n",
        "        self.hidden3 = nn.Linear(hidden_size[1], hidden_size[2])\n",
        "        self.relu3 = nn.ReLu()\n",
        "        self.hidden4 = nn.Linear(hidden_size[2], hidden_size[3]) # change dim\n",
        "        self.relu4 = nn.ReLu()\n",
        "        self.hidden5 = nn.Linear(hidden_size[3], output_dim)\n",
        "    \n",
        "    def forward(self, x):\n",
        "        out = self.hidden1(x)\n",
        "        out = self.relu1(out)\n",
        "        out = self.hidden2(out)\n",
        "        out = self.relu2(out)\n",
        "        out = self.hidden3(out)\n",
        "        out = self.relu3(out)\n",
        "        out = self.hidden4(out)\n",
        "        out = self.relu4(out)\n",
        "        out= self.hidden5(out)\n",
        "        return out\n",
        "\n",
        "model = DeepNeuralNetwork(input_size, hidden_size, num_classes).to(device)\n",
        "\n",
        "# training \n",
        "# define the optimization\n",
        "criterion = MSELoss()\n",
        "optimizer = SGD(model.parameters(), lr=0.01, momentum=0.9)\n",
        "# enumerate epochs\n",
        "for epoch in range(100):\n",
        "    # enumerate mini batches\n",
        "    for i, (inputs, targets) in enumerate(train_dl):\n",
        "        # clear the gradients\n",
        "        optimizer.zero_grad()\n",
        "        # compute the model output\n",
        "        yhat = model(inputs)\n",
        "        # calculate loss\n",
        "        loss = criterion(yhat, targets)\n",
        "        # credit assignment\n",
        "        loss.backward()\n",
        "        # update model weights\n",
        "        optimizer.step()"
      ],
      "metadata": {
        "id": "NYDy36pafVGf"
      },
      "execution_count": null,
      "outputs": []
    }
  ]
}